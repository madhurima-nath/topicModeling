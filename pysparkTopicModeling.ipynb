{
  "cells": [
    {
      "cell_type": "markdown",
      "metadata": {
        "id": "jnjLUv5kCmMx"
      },
      "source": [
        "# Topic modeling using PySpark\n",
        "\n",
        "[Apache Spark](https://spark.apache.org/) website says that it is a `Lightning-fast unified analytics engine`.\n",
        "\n",
        "PySpark is a flavour of Spark used for processing and analysing massive volumes of data. We all know how long data processing and cleaning can take as the size of the datasets increase. Enter - PySpark! It decrease the running time and is extremely efficient.\n",
        "\n",
        "PySpark is the Python API of Spark; which means it can do almost all the things python can. Machine learning(ML) pipelines, exploratory data analysis (at scale), ETLs for data platform, and much more! And all of them in a distributed manner. One of the best parts of pyspark is that if you are already familiar with python, it's really easy to learn.\n",
        "\n",
        "There is another language called *Scala* used for big data. Scala is usually 10 times faster than Python. But, since that requires learning another language, let's stick to PySpark.\n",
        "\n",
        "## SparkNLP module\n",
        "SparkNLP is developed and maintained by\n",
        "[John Snow Labs](https://nlp.johnsnowlabs.com).\n",
        "It is an open-source text processing module\n",
        "built on top of Apache Spark and spark ML library.\n",
        "It supports Python, Scala and Java.\n",
        "\n",
        "## PySpark ML module\n",
        "This contains dataframe-based ML Pipeline APIs\n",
        "which lets users quickly assemble and configure\n",
        "ML solutions. It is fast and uses distributed computing.\n",
        "To learn more about PySpark ML package, refer\n",
        "[here](https://spark.apache.org/docs/2.3.0/api/python/pyspark.ml.html).\n"
      ]
    },
    {
      "cell_type": "markdown",
      "metadata": {
        "id": "Zzzz-xksM1el"
      },
      "source": [
        "## Install pyspark library"
      ]
    },
    {
      "cell_type": "code",
      "execution_count": 35,
      "metadata": {
        "id": "tQlBChSC8vAw"
      },
      "outputs": [],
      "source": [
        "!pip install -q pyspark==3.3.0 spark-nlp==5.0.2"
      ]
    },
    {
      "cell_type": "code",
      "execution_count": 36,
      "metadata": {
        "colab": {
          "base_uri": "https://localhost:8080/"
        },
        "id": "b0_ijOMI7fUO",
        "outputId": "28ac00d6-9560-40f1-8f79-eb5fedcfd780"
      },
      "outputs": [
        {
          "output_type": "stream",
          "name": "stdout",
          "text": [
            "Warning::Spark Session already created, some configs may not take.\n",
            "Spark NLP version: 5.0.2\n",
            "Apache Spark version: 3.3.0\n"
          ]
        }
      ],
      "source": [
        "import sparknlp\n",
        "spark = sparknlp.start()\n",
        "\n",
        "print(\"Spark NLP version:\", sparknlp.version())\n",
        "print(\"Apache Spark version:\", spark.version)"
      ]
    },
    {
      "cell_type": "markdown",
      "metadata": {
        "id": "C4YKLKTvJjGh"
      },
      "source": [
        "## Import packages"
      ]
    },
    {
      "cell_type": "code",
      "execution_count": 37,
      "metadata": {
        "id": "bHECd5xQJuuN"
      },
      "outputs": [],
      "source": [
        "# pyspark packages\n",
        "from pyspark.sql.functions import *\n",
        "from pyspark.sql.types import *\n",
        "from pyspark.sql import SparkSession\n",
        "\n",
        "# pyspark ml packages\n",
        "from pyspark.ml import Pipeline\n",
        "from pyspark.ml.feature import StopWordsRemover\n",
        "from pyspark.ml.clustering import LDA\n",
        "from pyspark.ml.feature import CountVectorizer, IDF\n",
        "\n",
        "# sparknlp packages\n",
        "from sparknlp.base import *\n",
        "from sparknlp.annotator import *\n",
        "\n",
        "# other packages\n",
        "import re\n",
        "import pandas as pd\n",
        "import warnings\n",
        "warnings.filterwarnings(\"ignore\", category = FutureWarning)\n",
        "\n",
        "# visualization packages\n",
        "from ipywidgets import interact\n",
        "import ipywidgets as widgets\n",
        "import seaborn as sns\n",
        "import matplotlib.pyplot as plt"
      ]
    },
    {
      "cell_type": "markdown",
      "metadata": {
        "id": "WKzKahbxaqJa"
      },
      "source": [
        "## Load Data\n",
        "Read data from local directory"
      ]
    },
    {
      "cell_type": "code",
      "execution_count": 38,
      "metadata": {
        "colab": {
          "base_uri": "https://localhost:8080/",
          "height": 323
        },
        "id": "SnHaokVwanTA",
        "outputId": "8d0b418a-e1ef-49fb-9859-e5d1482ac437"
      },
      "outputs": [
        {
          "output_type": "execute_result",
          "data": {
            "text/plain": [
              "   ID                                              TITLE  \\\n",
              "0   1        Reconstructing Subject-Specific Effect Maps   \n",
              "1   2                 Rotation Invariance Neural Network   \n",
              "2   3  Spherical polyharmonics and Poisson kernels fo...   \n",
              "3   4  A finite element approximation for the stochas...   \n",
              "4   5  Comparative study of Discrete Wavelet Transfor...   \n",
              "\n",
              "                                            ABSTRACT  Computer Science  \\\n",
              "0    Predictive models allow subject-specific inf...                 1   \n",
              "1    Rotation invariance and translation invarian...                 1   \n",
              "2    We introduce and develop the notion of spher...                 0   \n",
              "3    The stochastic Landau--Lifshitz--Gilbert (LL...                 0   \n",
              "4    Fourier-transform infra-red (FTIR) spectra o...                 1   \n",
              "\n",
              "   Physics  Mathematics  Statistics  Quantitative Biology  \\\n",
              "0        0            0           0                     0   \n",
              "1        0            0           0                     0   \n",
              "2        0            1           0                     0   \n",
              "3        0            1           0                     0   \n",
              "4        0            0           1                     0   \n",
              "\n",
              "   Quantitative Finance  \n",
              "0                     0  \n",
              "1                     0  \n",
              "2                     0  \n",
              "3                     0  \n",
              "4                     0  "
            ],
            "text/html": [
              "\n",
              "  <div id=\"df-f94f3253-1a7f-4aec-a65e-0171204cd3a9\" class=\"colab-df-container\">\n",
              "    <div>\n",
              "<style scoped>\n",
              "    .dataframe tbody tr th:only-of-type {\n",
              "        vertical-align: middle;\n",
              "    }\n",
              "\n",
              "    .dataframe tbody tr th {\n",
              "        vertical-align: top;\n",
              "    }\n",
              "\n",
              "    .dataframe thead th {\n",
              "        text-align: right;\n",
              "    }\n",
              "</style>\n",
              "<table border=\"1\" class=\"dataframe\">\n",
              "  <thead>\n",
              "    <tr style=\"text-align: right;\">\n",
              "      <th></th>\n",
              "      <th>ID</th>\n",
              "      <th>TITLE</th>\n",
              "      <th>ABSTRACT</th>\n",
              "      <th>Computer Science</th>\n",
              "      <th>Physics</th>\n",
              "      <th>Mathematics</th>\n",
              "      <th>Statistics</th>\n",
              "      <th>Quantitative Biology</th>\n",
              "      <th>Quantitative Finance</th>\n",
              "    </tr>\n",
              "  </thead>\n",
              "  <tbody>\n",
              "    <tr>\n",
              "      <th>0</th>\n",
              "      <td>1</td>\n",
              "      <td>Reconstructing Subject-Specific Effect Maps</td>\n",
              "      <td>Predictive models allow subject-specific inf...</td>\n",
              "      <td>1</td>\n",
              "      <td>0</td>\n",
              "      <td>0</td>\n",
              "      <td>0</td>\n",
              "      <td>0</td>\n",
              "      <td>0</td>\n",
              "    </tr>\n",
              "    <tr>\n",
              "      <th>1</th>\n",
              "      <td>2</td>\n",
              "      <td>Rotation Invariance Neural Network</td>\n",
              "      <td>Rotation invariance and translation invarian...</td>\n",
              "      <td>1</td>\n",
              "      <td>0</td>\n",
              "      <td>0</td>\n",
              "      <td>0</td>\n",
              "      <td>0</td>\n",
              "      <td>0</td>\n",
              "    </tr>\n",
              "    <tr>\n",
              "      <th>2</th>\n",
              "      <td>3</td>\n",
              "      <td>Spherical polyharmonics and Poisson kernels fo...</td>\n",
              "      <td>We introduce and develop the notion of spher...</td>\n",
              "      <td>0</td>\n",
              "      <td>0</td>\n",
              "      <td>1</td>\n",
              "      <td>0</td>\n",
              "      <td>0</td>\n",
              "      <td>0</td>\n",
              "    </tr>\n",
              "    <tr>\n",
              "      <th>3</th>\n",
              "      <td>4</td>\n",
              "      <td>A finite element approximation for the stochas...</td>\n",
              "      <td>The stochastic Landau--Lifshitz--Gilbert (LL...</td>\n",
              "      <td>0</td>\n",
              "      <td>0</td>\n",
              "      <td>1</td>\n",
              "      <td>0</td>\n",
              "      <td>0</td>\n",
              "      <td>0</td>\n",
              "    </tr>\n",
              "    <tr>\n",
              "      <th>4</th>\n",
              "      <td>5</td>\n",
              "      <td>Comparative study of Discrete Wavelet Transfor...</td>\n",
              "      <td>Fourier-transform infra-red (FTIR) spectra o...</td>\n",
              "      <td>1</td>\n",
              "      <td>0</td>\n",
              "      <td>0</td>\n",
              "      <td>1</td>\n",
              "      <td>0</td>\n",
              "      <td>0</td>\n",
              "    </tr>\n",
              "  </tbody>\n",
              "</table>\n",
              "</div>\n",
              "    <div class=\"colab-df-buttons\">\n",
              "\n",
              "  <div class=\"colab-df-container\">\n",
              "    <button class=\"colab-df-convert\" onclick=\"convertToInteractive('df-f94f3253-1a7f-4aec-a65e-0171204cd3a9')\"\n",
              "            title=\"Convert this dataframe to an interactive table.\"\n",
              "            style=\"display:none;\">\n",
              "\n",
              "  <svg xmlns=\"http://www.w3.org/2000/svg\" height=\"24px\" viewBox=\"0 -960 960 960\">\n",
              "    <path d=\"M120-120v-720h720v720H120Zm60-500h600v-160H180v160Zm220 220h160v-160H400v160Zm0 220h160v-160H400v160ZM180-400h160v-160H180v160Zm440 0h160v-160H620v160ZM180-180h160v-160H180v160Zm440 0h160v-160H620v160Z\"/>\n",
              "  </svg>\n",
              "    </button>\n",
              "\n",
              "  <style>\n",
              "    .colab-df-container {\n",
              "      display:flex;\n",
              "      gap: 12px;\n",
              "    }\n",
              "\n",
              "    .colab-df-convert {\n",
              "      background-color: #E8F0FE;\n",
              "      border: none;\n",
              "      border-radius: 50%;\n",
              "      cursor: pointer;\n",
              "      display: none;\n",
              "      fill: #1967D2;\n",
              "      height: 32px;\n",
              "      padding: 0 0 0 0;\n",
              "      width: 32px;\n",
              "    }\n",
              "\n",
              "    .colab-df-convert:hover {\n",
              "      background-color: #E2EBFA;\n",
              "      box-shadow: 0px 1px 2px rgba(60, 64, 67, 0.3), 0px 1px 3px 1px rgba(60, 64, 67, 0.15);\n",
              "      fill: #174EA6;\n",
              "    }\n",
              "\n",
              "    .colab-df-buttons div {\n",
              "      margin-bottom: 4px;\n",
              "    }\n",
              "\n",
              "    [theme=dark] .colab-df-convert {\n",
              "      background-color: #3B4455;\n",
              "      fill: #D2E3FC;\n",
              "    }\n",
              "\n",
              "    [theme=dark] .colab-df-convert:hover {\n",
              "      background-color: #434B5C;\n",
              "      box-shadow: 0px 1px 3px 1px rgba(0, 0, 0, 0.15);\n",
              "      filter: drop-shadow(0px 1px 2px rgba(0, 0, 0, 0.3));\n",
              "      fill: #FFFFFF;\n",
              "    }\n",
              "  </style>\n",
              "\n",
              "    <script>\n",
              "      const buttonEl =\n",
              "        document.querySelector('#df-f94f3253-1a7f-4aec-a65e-0171204cd3a9 button.colab-df-convert');\n",
              "      buttonEl.style.display =\n",
              "        google.colab.kernel.accessAllowed ? 'block' : 'none';\n",
              "\n",
              "      async function convertToInteractive(key) {\n",
              "        const element = document.querySelector('#df-f94f3253-1a7f-4aec-a65e-0171204cd3a9');\n",
              "        const dataTable =\n",
              "          await google.colab.kernel.invokeFunction('convertToInteractive',\n",
              "                                                    [key], {});\n",
              "        if (!dataTable) return;\n",
              "\n",
              "        const docLinkHtml = 'Like what you see? Visit the ' +\n",
              "          '<a target=\"_blank\" href=https://colab.research.google.com/notebooks/data_table.ipynb>data table notebook</a>'\n",
              "          + ' to learn more about interactive tables.';\n",
              "        element.innerHTML = '';\n",
              "        dataTable['output_type'] = 'display_data';\n",
              "        await google.colab.output.renderOutput(dataTable, element);\n",
              "        const docLink = document.createElement('div');\n",
              "        docLink.innerHTML = docLinkHtml;\n",
              "        element.appendChild(docLink);\n",
              "      }\n",
              "    </script>\n",
              "  </div>\n",
              "\n",
              "\n",
              "<div id=\"df-0d6fa5a5-4088-48b8-9696-612862865061\">\n",
              "  <button class=\"colab-df-quickchart\" onclick=\"quickchart('df-0d6fa5a5-4088-48b8-9696-612862865061')\"\n",
              "            title=\"Suggest charts.\"\n",
              "            style=\"display:none;\">\n",
              "\n",
              "<svg xmlns=\"http://www.w3.org/2000/svg\" height=\"24px\"viewBox=\"0 0 24 24\"\n",
              "     width=\"24px\">\n",
              "    <g>\n",
              "        <path d=\"M19 3H5c-1.1 0-2 .9-2 2v14c0 1.1.9 2 2 2h14c1.1 0 2-.9 2-2V5c0-1.1-.9-2-2-2zM9 17H7v-7h2v7zm4 0h-2V7h2v10zm4 0h-2v-4h2v4z\"/>\n",
              "    </g>\n",
              "</svg>\n",
              "  </button>\n",
              "\n",
              "<style>\n",
              "  .colab-df-quickchart {\n",
              "    background-color: #E8F0FE;\n",
              "    border: none;\n",
              "    border-radius: 50%;\n",
              "    cursor: pointer;\n",
              "    display: none;\n",
              "    fill: #1967D2;\n",
              "    height: 32px;\n",
              "    padding: 0 0 0 0;\n",
              "    width: 32px;\n",
              "  }\n",
              "\n",
              "  .colab-df-quickchart:hover {\n",
              "    background-color: #E2EBFA;\n",
              "    box-shadow: 0px 1px 2px rgba(60, 64, 67, 0.3), 0px 1px 3px 1px rgba(60, 64, 67, 0.15);\n",
              "    fill: #174EA6;\n",
              "  }\n",
              "\n",
              "  [theme=dark] .colab-df-quickchart {\n",
              "    background-color: #3B4455;\n",
              "    fill: #D2E3FC;\n",
              "  }\n",
              "\n",
              "  [theme=dark] .colab-df-quickchart:hover {\n",
              "    background-color: #434B5C;\n",
              "    box-shadow: 0px 1px 3px 1px rgba(0, 0, 0, 0.15);\n",
              "    filter: drop-shadow(0px 1px 2px rgba(0, 0, 0, 0.3));\n",
              "    fill: #FFFFFF;\n",
              "  }\n",
              "</style>\n",
              "\n",
              "  <script>\n",
              "    async function quickchart(key) {\n",
              "      const charts = await google.colab.kernel.invokeFunction(\n",
              "          'suggestCharts', [key], {});\n",
              "    }\n",
              "    (() => {\n",
              "      let quickchartButtonEl =\n",
              "        document.querySelector('#df-0d6fa5a5-4088-48b8-9696-612862865061 button');\n",
              "      quickchartButtonEl.style.display =\n",
              "        google.colab.kernel.accessAllowed ? 'block' : 'none';\n",
              "    })();\n",
              "  </script>\n",
              "</div>\n",
              "    </div>\n",
              "  </div>\n"
            ]
          },
          "metadata": {},
          "execution_count": 38
        }
      ],
      "source": [
        "pandasDF = pd.read_csv('dataset.csv')\n",
        "pandasDF.head()"
      ]
    },
    {
      "cell_type": "code",
      "execution_count": 39,
      "metadata": {
        "id": "0xz-sp3qbzNM",
        "colab": {
          "base_uri": "https://localhost:8080/"
        },
        "outputId": "4cd76fce-6f66-4919-eb71-d2daa1b3bb0d"
      },
      "outputs": [
        {
          "output_type": "execute_result",
          "data": {
            "text/plain": [
              "(20972, 9)"
            ]
          },
          "metadata": {},
          "execution_count": 39
        }
      ],
      "source": [
        "pandasDF.shape"
      ]
    },
    {
      "cell_type": "markdown",
      "metadata": {
        "id": "U-_5MxRVdZpl"
      },
      "source": [
        "### Convert pandas dataframe into spark dataframe\n",
        "\n",
        "Note: Usually the dataset is read from a database or a data lake storage on cloud."
      ]
    },
    {
      "cell_type": "code",
      "execution_count": 40,
      "metadata": {
        "id": "P07_i4N5f5JS"
      },
      "outputs": [],
      "source": [
        "# building a spark session is required\n",
        "# call this spark session - pandas to spark\n",
        "sparkS = SparkSession.builder.appName(\"pandas to spark\").getOrCreate()"
      ]
    },
    {
      "cell_type": "code",
      "execution_count": 41,
      "metadata": {
        "id": "2loML2NLcsr7"
      },
      "outputs": [],
      "source": [
        "sparkDF = sparkS.createDataFrame(pandasDF)"
      ]
    },
    {
      "cell_type": "code",
      "execution_count": 42,
      "metadata": {
        "id": "tXjkKVGEfzP3",
        "colab": {
          "base_uri": "https://localhost:8080/"
        },
        "outputId": "f8129c54-5ba8-485b-c2a3-43327e1c3583"
      },
      "outputs": [
        {
          "output_type": "stream",
          "name": "stdout",
          "text": [
            "+---+--------------------+--------------------+----------------+-------+-----------+----------+--------------------+--------------------+\n",
            "| ID|               TITLE|            ABSTRACT|Computer Science|Physics|Mathematics|Statistics|Quantitative Biology|Quantitative Finance|\n",
            "+---+--------------------+--------------------+----------------+-------+-----------+----------+--------------------+--------------------+\n",
            "|  1|Reconstructing Su...|  Predictive mode...|               1|      0|          0|         0|                   0|                   0|\n",
            "|  2|Rotation Invarian...|  Rotation invari...|               1|      0|          0|         0|                   0|                   0|\n",
            "|  3|Spherical polyhar...|  We introduce an...|               0|      0|          1|         0|                   0|                   0|\n",
            "|  4|A finite element ...|  The stochastic ...|               0|      0|          1|         0|                   0|                   0|\n",
            "|  5|Comparative study...|  Fourier-transfo...|               1|      0|          0|         1|                   0|                   0|\n",
            "+---+--------------------+--------------------+----------------+-------+-----------+----------+--------------------+--------------------+\n",
            "only showing top 5 rows\n",
            "\n"
          ]
        }
      ],
      "source": [
        "sparkDF.show(5)"
      ]
    },
    {
      "cell_type": "markdown",
      "metadata": {
        "id": "e19AFndthGQq"
      },
      "source": [
        "## Processing text columns"
      ]
    },
    {
      "cell_type": "markdown",
      "metadata": {
        "id": "KGX1ePUjs0N1"
      },
      "source": [
        "### User-defined functions required\n",
        "\n",
        "The following functions are defined in this notebook to process the text columns in the dataframe and obtain the topics out of the data using `sparknlp` and `pyspark.ml` packages.\n",
        "- `clean_sentence` - removes punctuations, special characters, additional spaces and any words with length < 3\n",
        "- `getTopics` - obtains the terms from each of the topics from `sparkLDA` model"
      ]
    },
    {
      "cell_type": "code",
      "execution_count": 43,
      "metadata": {
        "id": "RFTz1cW_g5rJ"
      },
      "outputs": [],
      "source": [
        "@udf(\"string\")\n",
        "def clean_sentence(sentence):\n",
        "\n",
        "  '''function to clean up the sentences\n",
        "  this removes punctuations, special characters,\n",
        "  numbers, additional spaces in between\n",
        "  words and remove any words whose length < 3.'''\n",
        "\n",
        "  #replace non-alpha characters with spaces\n",
        "  sentence = re.sub(r\"[^a-z A-Z]\", \" \", sentence)\n",
        "\n",
        "  #replace any extra spaces\n",
        "  sentence = re.sub(r\"/s+\", \"\", sentence)\n",
        "\n",
        "  #only retain words of length >= 3\n",
        "  sentence = \" \".join([ele for ele in sentence.split() if len(ele) >= 3])\n",
        "\n",
        "  return sentence"
      ]
    },
    {
      "cell_type": "code",
      "execution_count": 44,
      "metadata": {
        "id": "181Nj1XavPEh"
      },
      "outputs": [],
      "source": [
        "@udf(ArrayType(StringType()))\n",
        "def getTopics(token_list):\n",
        "\n",
        "  '''funtion to get the terms from each of the\n",
        "  topics from sparkLDA model'''\n",
        "\n",
        "  tlist = [vocab[token_id] for token_id in token_list]\n",
        "  return tlist"
      ]
    },
    {
      "cell_type": "markdown",
      "metadata": {
        "id": "5K5bb0YtvrG_"
      },
      "source": [
        "### Combine text columns\n",
        "The two columns containing text are combined into one and create a new column `Text` which will be the inpiut for all the text processing, text clean-up and eventually the topic modeling. Retain only the text columns as the rest are not required for topic modeling"
      ]
    },
    {
      "cell_type": "code",
      "execution_count": 45,
      "metadata": {
        "id": "KMjB_Q2PwYkc",
        "colab": {
          "base_uri": "https://localhost:8080/"
        },
        "outputId": "72accd76-a35d-4f86-82ca-556598d41c7c"
      },
      "outputs": [
        {
          "output_type": "stream",
          "name": "stdout",
          "text": [
            "+--------------------+--------------------+--------------------+\n",
            "|               Title|            Abstract|             Content|\n",
            "+--------------------+--------------------+--------------------+\n",
            "|Reconstructing Su...|  Predictive mode...|Reconstructing Su...|\n",
            "|Rotation Invarian...|  Rotation invari...|Rotation Invarian...|\n",
            "|Spherical polyhar...|  We introduce an...|Spherical polyhar...|\n",
            "|A finite element ...|  The stochastic ...|A finite element ...|\n",
            "|Comparative study...|  Fourier-transfo...|Comparative study...|\n",
            "+--------------------+--------------------+--------------------+\n",
            "only showing top 5 rows\n",
            "\n"
          ]
        }
      ],
      "source": [
        "sparkDF = sparkDF.withColumn(\"Content\", concat(col(\"Title\"), lit(\" \"), col(\"Abstract\")))\n",
        "sparkDF = sparkDF.select(\"Title\", \"Abstract\", \"Content\")\n",
        "sparkDF.show(5)"
      ]
    },
    {
      "cell_type": "code",
      "execution_count": 46,
      "metadata": {
        "id": "DAm3j2cBkH32"
      },
      "outputs": [],
      "source": [
        "# apply the above function to clean up text and create a new column\n",
        "# the regexp_replace function applied below cleans up strings\n",
        "# which have more than 2 same letters consecutively in a word\n",
        "\n",
        "sparkDF = sparkDF.withColumn(\"Text\", clean_sentence(regexp_replace(col(\"Content\"), \\\n",
        "                                                            r\"(\\w)\\1{2}\", \"\")))"
      ]
    },
    {
      "cell_type": "code",
      "execution_count": 47,
      "metadata": {
        "id": "8b0ZgRpq4xEb",
        "colab": {
          "base_uri": "https://localhost:8080/"
        },
        "outputId": "508622f4-c29f-461b-d613-8e98e63f6353"
      },
      "outputs": [
        {
          "output_type": "execute_result",
          "data": {
            "text/plain": [
              "DataFrame[Title: string, Abstract: string, Content: string, Text: string]"
            ]
          },
          "metadata": {},
          "execution_count": 47
        }
      ],
      "source": [
        "sparkDF"
      ]
    },
    {
      "cell_type": "markdown",
      "metadata": {
        "id": "sMDbcYyby4tK"
      },
      "source": [
        "### Define spark-nlp pipelines\n",
        "Define the following spark pipelines before topic modeling to\n",
        "- tokenize\n",
        "- lemmatize\n",
        "- remove stopwords\n",
        "- part of speech tagging\n",
        "- retain only nouns, verbs and adjectives"
      ]
    },
    {
      "cell_type": "code",
      "execution_count": 48,
      "metadata": {
        "id": "7uEuKJuFyjhn",
        "colab": {
          "base_uri": "https://localhost:8080/"
        },
        "outputId": "4456c3f6-4e93-4e0a-bc18-a8b9fa0fa7ec"
      },
      "outputs": [
        {
          "output_type": "stream",
          "name": "stdout",
          "text": [
            "pos_anc download started this may take some time.\n",
            "Approximate size to download 3.9 MB\n",
            "[OK!]\n",
            "lemma_antbnc download started this may take some time.\n",
            "Approximate size to download 907.6 KB\n",
            "[OK!]\n"
          ]
        }
      ],
      "source": [
        "documentAssembler = DocumentAssembler() \\\n",
        "                      .setInputCol(\"Text\") \\\n",
        "                      .setOutputCol(\"document\")\n",
        "\n",
        "sentence = SentenceDetector() \\\n",
        "            .setInputCols(\"document\") \\\n",
        "            .setOutputCol(\"sentence\")\n",
        "\n",
        "tokenizer = Tokenizer() \\\n",
        "              .setInputCols([\"sentence\"]) \\\n",
        "              .setOutputCol(\"token\")\n",
        "\n",
        "POSTag = PerceptronModel.pretrained() \\\n",
        "          .setInputCols(\"document\", \"token\") \\\n",
        "          .setOutputCol(\"pos\")\n",
        "\n",
        "chunker = Chunker() \\\n",
        "            .setInputCols(\"sentence\", \"pos\") \\\n",
        "            .setOutputCol(\"chunk\") \\\n",
        "            .setRegexParsers([\"<NN>\", \"<NNS>\", \"<NNP>\", \"<VB>\", \"<JJ>\", \"<ADJ>\"])\n",
        "\n",
        "lemmatizer = LemmatizerModel.pretrained() \\\n",
        "              .setInputCols([\"token\"]) \\\n",
        "              .setOutputCol(\"lemmatized\")\n",
        "\n",
        "stopwordsCleaner = StopWordsCleaner() \\\n",
        "                    .setStopWords(StopWordsRemover \\\n",
        "                            .loadDefaultStopWords(\"english\")) \\\n",
        "                    .setInputCols([\"lemmatized\"]) \\\n",
        "                    .setOutputCol(\"unigram\")"
      ]
    },
    {
      "cell_type": "code",
      "execution_count": 49,
      "metadata": {
        "id": "iJYACMCaE7HA"
      },
      "outputs": [],
      "source": [
        "pipeline1 = Pipeline().setStages(\n",
        "              [documentAssembler,\n",
        "               sentence,\n",
        "               tokenizer,\n",
        "               POSTag,\n",
        "               chunker,\n",
        "               lemmatizer,\n",
        "               stopwordsCleaner\n",
        "               ])"
      ]
    },
    {
      "cell_type": "code",
      "execution_count": 50,
      "metadata": {
        "id": "wAchv4iEJqX6"
      },
      "outputs": [],
      "source": [
        "df = pipeline1.fit(sparkDF).transform(sparkDF)"
      ]
    },
    {
      "cell_type": "code",
      "execution_count": 51,
      "metadata": {
        "id": "S3f072ZeJ0Tk"
      },
      "outputs": [],
      "source": [
        "# df.show(5)"
      ]
    },
    {
      "cell_type": "code",
      "execution_count": 52,
      "metadata": {
        "id": "cR1UjyM4J8am"
      },
      "outputs": [],
      "source": [
        "finalDF = df.select(\"Text\", col(\"unigram.result\").alias(\"unigrams\")) \\\n",
        "                      .withColumn(\"unigrams\", clean_sentence(\n",
        "                          regexp_replace(clean_sentence(\n",
        "                              concat_ws(\", \", array_distinct(\n",
        "                                  split(regexp_replace(\n",
        "                                          concat_ws(\", \", col(\"unigrams\")),\n",
        "                                        \"[^A-Za-z0-9]\", \" \"),\n",
        "                                      \" \"))\n",
        "                              )), r\"\\s*[A-Z]\\w*\\s*\", \" \"\n",
        "                          ))\n",
        "                      )"
      ]
    },
    {
      "cell_type": "code",
      "execution_count": 53,
      "metadata": {
        "id": "RCsmLqUcMaZg"
      },
      "outputs": [],
      "source": [
        "# finalDF.show(5)"
      ]
    },
    {
      "cell_type": "code",
      "execution_count": 54,
      "metadata": {
        "id": "VDjB9bUTNHD2"
      },
      "outputs": [],
      "source": [
        "# split the unigrams into separate terms\n",
        "# filter to keep only the non-null entries\n",
        "\n",
        "finalDF = finalDF.filter(col(\"unigrams\").isNotNull()) \\\n",
        "        .withColumn(\"terms\", split(col(\"unigrams\"), \" \")) \\\n",
        "        .select(\"Text\", \"terms\")"
      ]
    },
    {
      "cell_type": "code",
      "execution_count": 55,
      "metadata": {
        "id": "r50ykYFRVbrI",
        "colab": {
          "base_uri": "https://localhost:8080/"
        },
        "outputId": "132483a2-1d40-4ce3-8c23-6a26ac260b9f"
      },
      "outputs": [
        {
          "output_type": "stream",
          "name": "stdout",
          "text": [
            "+--------------------+--------------------+\n",
            "|                Text|               terms|\n",
            "+--------------------+--------------------+\n",
            "|Reconstructing Su...|[model, allow, su...|\n",
            "|Rotation Invarian...|[invariance, tran...|\n",
            "|Spherical polyhar...|[polyharmonics, k...|\n",
            "|finite element ap...|[finite, element,...|\n",
            "|Comparative study...|[study, decomposi...|\n",
            "+--------------------+--------------------+\n",
            "only showing top 5 rows\n",
            "\n"
          ]
        }
      ],
      "source": [
        "finalDF.show(5)"
      ]
    },
    {
      "cell_type": "markdown",
      "metadata": {
        "id": "h_31PT33WpTe"
      },
      "source": [
        "## Topic modeling\n",
        "Use the pyspark ml libraries to obtain the topics and the terms along with their proabilities."
      ]
    },
    {
      "cell_type": "code",
      "execution_count": 56,
      "metadata": {
        "id": "qquoE8UQXJ4N"
      },
      "outputs": [],
      "source": [
        "tfzer = CountVectorizer(inputCol = \"terms\", outputCol = \"tfFeatures\")\n",
        "tfModel = tfzer.fit(finalDF)\n",
        "tfResult = tfModel.transform(finalDF)"
      ]
    },
    {
      "cell_type": "code",
      "execution_count": 57,
      "metadata": {
        "id": "J9SjphmJX8eJ"
      },
      "outputs": [],
      "source": [
        "idfzer = IDF(inputCol = \"tfFeatures\", outputCol = \"tfidfFeatures\")\n",
        "idfModel = idfzer.fit(tfResult)\n",
        "tfidfResult = idfModel.transform(tfResult)"
      ]
    },
    {
      "cell_type": "code",
      "execution_count": 58,
      "metadata": {
        "id": "HygJMLHDYS6U"
      },
      "outputs": [],
      "source": [
        "lda = LDA(k=3, maxIter = 5, featuresCol = \"tfidfFeatures\")\n",
        "ldaModel = lda.fit(tfidfResult)"
      ]
    },
    {
      "cell_type": "code",
      "execution_count": 59,
      "metadata": {
        "id": "lg6oxBgsaCvy",
        "colab": {
          "base_uri": "https://localhost:8080/"
        },
        "outputId": "2404f34a-7e9b-4451-f298-1c497ad26982"
      },
      "outputs": [
        {
          "output_type": "stream",
          "name": "stdout",
          "text": [
            "+-----+--------------------+--------------------+\n",
            "|topic|         termIndices|         termWeights|\n",
            "+-----+--------------------+--------------------+\n",
            "|    0|[6, 10, 3, 7, 2, ...|[0.00190135171415...|\n",
            "|    1|[139, 1, 53, 25, ...|[0.00172494557790...|\n",
            "|    2|[18, 15, 16, 14, ...|[0.00144975348071...|\n",
            "+-----+--------------------+--------------------+\n",
            "\n"
          ]
        }
      ],
      "source": [
        "ldaModel.describeTopics(10).show(5)"
      ]
    },
    {
      "cell_type": "code",
      "execution_count": 60,
      "metadata": {
        "id": "rDqM5wqiZx94"
      },
      "outputs": [],
      "source": [
        "vocab = tfModel.vocabulary\n",
        "\n",
        "topics = ldaModel.describeTopics(10).withColumn(\"TopicTerms\", \\\n",
        "                                                getTopics(col(\"termIndices\"))) \\\n",
        "                                    .withColumnRenamed(\"termWeights\", \"TermProb\") \\\n",
        "                                    .select(\"Topic\", \"TopicTerms\", \"TermProb\")"
      ]
    },
    {
      "cell_type": "code",
      "execution_count": 61,
      "metadata": {
        "id": "L6fD7sqFoIhU",
        "colab": {
          "base_uri": "https://localhost:8080/"
        },
        "outputId": "af99b436-7517-43d1-f970-89d71b352ad2"
      },
      "outputs": [
        {
          "output_type": "stream",
          "name": "stdout",
          "text": [
            "+-----+--------------------+--------------------+\n",
            "|Topic|          TopicTerms|            TermProb|\n",
            "+-----+--------------------+--------------------+\n",
            "|    0|[method, data, mo...|[0.00190135171415...|\n",
            "|    1|[group, show, pro...|[0.00172494557790...|\n",
            "|    2|[well, approach, ...|[0.00144975348071...|\n",
            "+-----+--------------------+--------------------+\n",
            "\n"
          ]
        }
      ],
      "source": [
        "topics.show()"
      ]
    },
    {
      "cell_type": "code",
      "execution_count": 62,
      "metadata": {
        "id": "KIfAPlWXoKE4"
      },
      "outputs": [],
      "source": [
        "topicsDF = topics.withColumn(\"ID\", monotonically_increasing_id()) \\\n",
        "                  .withColumn(\"new\", arrays_zip(\"TopicTerms\", \"TermProb\")) \\\n",
        "                  .withColumn(\"new\", explode(\"new\")) \\\n",
        "                  .select(\"ID\", \"Topic\", col(\"new.TopicTerms\").alias(\"TopicTerms\"), \\\n",
        "                          col(\"new.TermProb\").alias(\"TermProb\"))"
      ]
    },
    {
      "cell_type": "code",
      "execution_count": 63,
      "metadata": {
        "id": "_QJlUJdBsWFW",
        "colab": {
          "base_uri": "https://localhost:8080/"
        },
        "outputId": "c6a33a53-8ff0-4b82-a9d1-80e5665891fb"
      },
      "outputs": [
        {
          "output_type": "stream",
          "name": "stdout",
          "text": [
            "+---+-----+----------+--------------------+\n",
            "| ID|Topic|TopicTerms|            TermProb|\n",
            "+---+-----+----------+--------------------+\n",
            "|  0|    0|    method|0.001901351714155...|\n",
            "|  0|    0|      data|0.001819539327412...|\n",
            "|  0|    0|     model|0.001784254621530...|\n",
            "|  0|    0|   propose|0.001733242596248...|\n",
            "|  0|    0|    result|0.001716011871714...|\n",
            "|  0|    0|      time|0.001712096837753...|\n",
            "|  0|    0|       use|0.001710695474587...|\n",
            "|  0|    0|      show|0.001700484774013...|\n",
            "|  0|    0|   problem|0.001659324202298...|\n",
            "|  0|    0|   provide|0.001657725063158177|\n",
            "+---+-----+----------+--------------------+\n",
            "only showing top 10 rows\n",
            "\n"
          ]
        }
      ],
      "source": [
        "topicsDF.show(10)"
      ]
    },
    {
      "cell_type": "markdown",
      "source": [
        "## Visualization\n",
        "\n",
        "This can be also done using Tableau or Power BI or any other dashboarding services.\n",
        "\n",
        "The following is a quick way to visualize the results.\n",
        "\n",
        "Note: It is easier to do plots using pandas dataframe, dso will convert the above dataframes - `topics` and `topicsDF` into pandas."
      ],
      "metadata": {
        "id": "Ga4tuaS-x7yB"
      }
    },
    {
      "cell_type": "code",
      "source": [
        "# convert spark dataframe into pandas\n",
        "\n",
        "topicsPD = topics.toPandas()\n",
        "topicsDFpd = topicsDF.toPandas()"
      ],
      "metadata": {
        "id": "wkweJ3l6x66f"
      },
      "execution_count": 64,
      "outputs": []
    },
    {
      "cell_type": "code",
      "source": [
        "topicList = topicsPD.Topic.tolist()"
      ],
      "metadata": {
        "id": "a6j0_9Yp9Xr8"
      },
      "execution_count": 65,
      "outputs": []
    },
    {
      "cell_type": "code",
      "source": [
        "topicFilter = widgets.RadioButtons(\n",
        "    options=topicList,\n",
        "    value=topicList[0],\n",
        "    description='Topic:',\n",
        "    disabled=False,\n",
        ")"
      ],
      "metadata": {
        "id": "9K1zCj3N7dV_"
      },
      "execution_count": 66,
      "outputs": []
    },
    {
      "cell_type": "code",
      "source": [
        "def plot_topics(topicn):\n",
        "  print(\"terms in Topic: \", topicn, \"\\n\", \\\n",
        "        topicsPD.loc[topicn, \"TopicTerms\"])\n",
        "  fig, ax = plt.subplots()\n",
        "  p = ax.barh(topicsPD.loc[topicn, \"TopicTerms\"], \\\n",
        "            topicsPD.loc[topicn, \"TermProb\"])\n",
        "  ax.set_axis_off"
      ],
      "metadata": {
        "id": "hVFG0Eq08V_P"
      },
      "execution_count": 67,
      "outputs": []
    },
    {
      "cell_type": "code",
      "source": [
        "interact(plot_topics, topicn=topicFilter)"
      ],
      "metadata": {
        "colab": {
          "base_uri": "https://localhost:8080/",
          "height": 567,
          "referenced_widgets": [
            "dfd79171b1bc49a29ba9f9c00cc097ab",
            "a699c019c0ca4d8383b14003fb71be86",
            "299eb75be9d944aebf54fb71d3082f90",
            "71ff6d24c14a42efb942aa072abc3a92",
            "1aea31ed22ad452fabf950bf7ad0a4e7",
            "33f9cf2dffbb4ab89246011b14dc9915",
            "73e87705dea740b2a132d3e3c3175446"
          ]
        },
        "id": "zJRYnMDZ_QA_",
        "outputId": "6575fad0-3867-4b7e-847c-e1dff08bc1ea"
      },
      "execution_count": 68,
      "outputs": [
        {
          "output_type": "display_data",
          "data": {
            "text/plain": [
              "interactive(children=(RadioButtons(description='Topic:', options=(0, 1, 2), value=0), Output()), _dom_classes=…"
            ],
            "application/vnd.jupyter.widget-view+json": {
              "version_major": 2,
              "version_minor": 0,
              "model_id": "dfd79171b1bc49a29ba9f9c00cc097ab"
            }
          },
          "metadata": {}
        },
        {
          "output_type": "execute_result",
          "data": {
            "text/plain": [
              "<function __main__.plot_topics(topicn)>"
            ]
          },
          "metadata": {},
          "execution_count": 68
        },
        {
          "output_type": "display_data",
          "data": {
            "text/plain": [
              "<Figure size 640x480 with 1 Axes>"
            ],
            "image/png": "[encoded data removed]"
          },
          "metadata": {}
        }
      ]
    },
    {
      "cell_type": "code",
      "source": [],
      "metadata": {
        "id": "9G-5-77pAwQl"
      },
      "execution_count": 68,
      "outputs": []
    }
  ],
  "metadata": {
    "colab": {
      "provenance": []
    },
    "kernelspec": {
      "display_name": "Python 3",
      "name": "python3"
    },
    "language_info": {
      "name": "python"
    },
    "widgets": {
      "application/vnd.jupyter.widget-state+json": {
        "dfd79171b1bc49a29ba9f9c00cc097ab": {
          "model_module": "@jupyter-widgets/controls",
          "model_name": "VBoxModel",
          "model_module_version": "1.5.0",
          "state": {
            "_dom_classes": [
              "widget-interact"
            ],
            "_model_module": "@jupyter-widgets/controls",
            "_model_module_version": "1.5.0",
            "_model_name": "VBoxModel",
            "_view_count": null,
            "_view_module": "@jupyter-widgets/controls",
            "_view_module_version": "1.5.0",
            "_view_name": "VBoxView",
            "box_style": "",
            "children": [
              "IPY_MODEL_a699c019c0ca4d8383b14003fb71be86",
              "IPY_MODEL_299eb75be9d944aebf54fb71d3082f90"
            ],
            "layout": "IPY_MODEL_71ff6d24c14a42efb942aa072abc3a92"
          }
        },
        "a699c019c0ca4d8383b14003fb71be86": {
          "model_module": "@jupyter-widgets/controls",
          "model_name": "RadioButtonsModel",
          "model_module_version": "1.5.0",
          "state": {
            "_dom_classes": [],
            "_model_module": "@jupyter-widgets/controls",
            "_model_module_version": "1.5.0",
            "_model_name": "RadioButtonsModel",
            "_options_labels": [
              "0",
              "1",
              "2"
            ],
            "_view_count": null,
            "_view_module": "@jupyter-widgets/controls",
            "_view_module_version": "1.5.0",
            "_view_name": "RadioButtonsView",
            "description": "Topic:",
            "description_tooltip": null,
            "disabled": false,
            "index": 0,
            "layout": "IPY_MODEL_1aea31ed22ad452fabf950bf7ad0a4e7",
            "style": "IPY_MODEL_33f9cf2dffbb4ab89246011b14dc9915"
          }
        },
        "299eb75be9d944aebf54fb71d3082f90": {
          "model_module": "@jupyter-widgets/output",
          "model_name": "OutputModel",
          "model_module_version": "1.0.0",
          "state": {
            "_dom_classes": [],
            "_model_module": "@jupyter-widgets/output",
            "_model_module_version": "1.0.0",
            "_model_name": "OutputModel",
            "_view_count": null,
            "_view_module": "@jupyter-widgets/output",
            "_view_module_version": "1.0.0",
            "_view_name": "OutputView",
            "layout": "IPY_MODEL_73e87705dea740b2a132d3e3c3175446",
            "msg_id": "",
            "outputs": [
              {
                "output_type": "stream",
                "name": "stdout",
                "text": [
                  "terms in Topic:  0 \n",
                  " ['method', 'data', 'model', 'propose', 'result', 'time', 'use', 'show', 'problem', 'provide']\n"
                ]
              }
            ]
          }
        },
        "71ff6d24c14a42efb942aa072abc3a92": {
          "model_module": "@jupyter-widgets/base",
          "model_name": "LayoutModel",
          "model_module_version": "1.2.0",
          "state": {
            "_model_module": "@jupyter-widgets/base",
            "_model_module_version": "1.2.0",
            "_model_name": "LayoutModel",
            "_view_count": null,
            "_view_module": "@jupyter-widgets/base",
            "_view_module_version": "1.2.0",
            "_view_name": "LayoutView",
            "align_content": null,
            "align_items": null,
            "align_self": null,
            "border": null,
            "bottom": null,
            "display": null,
            "flex": null,
            "flex_flow": null,
            "grid_area": null,
            "grid_auto_columns": null,
            "grid_auto_flow": null,
            "grid_auto_rows": null,
            "grid_column": null,
            "grid_gap": null,
            "grid_row": null,
            "grid_template_areas": null,
            "grid_template_columns": null,
            "grid_template_rows": null,
            "height": null,
            "justify_content": null,
            "justify_items": null,
            "left": null,
            "margin": null,
            "max_height": null,
            "max_width": null,
            "min_height": null,
            "min_width": null,
            "object_fit": null,
            "object_position": null,
            "order": null,
            "overflow": null,
            "overflow_x": null,
            "overflow_y": null,
            "padding": null,
            "right": null,
            "top": null,
            "visibility": null,
            "width": null
          }
        },
        "1aea31ed22ad452fabf950bf7ad0a4e7": {
          "model_module": "@jupyter-widgets/base",
          "model_name": "LayoutModel",
          "model_module_version": "1.2.0",
          "state": {
            "_model_module": "@jupyter-widgets/base",
            "_model_module_version": "1.2.0",
            "_model_name": "LayoutModel",
            "_view_count": null,
            "_view_module": "@jupyter-widgets/base",
            "_view_module_version": "1.2.0",
            "_view_name": "LayoutView",
            "align_content": null,
            "align_items": null,
            "align_self": null,
            "border": null,
            "bottom": null,
            "display": null,
            "flex": null,
            "flex_flow": null,
            "grid_area": null,
            "grid_auto_columns": null,
            "grid_auto_flow": null,
            "grid_auto_rows": null,
            "grid_column": null,
            "grid_gap": null,
            "grid_row": null,
            "grid_template_areas": null,
            "grid_template_columns": null,
            "grid_template_rows": null,
            "height": null,
            "justify_content": null,
            "justify_items": null,
            "left": null,
            "margin": null,
            "max_height": null,
            "max_width": null,
            "min_height": null,
            "min_width": null,
            "object_fit": null,
            "object_position": null,
            "order": null,
            "overflow": null,
            "overflow_x": null,
            "overflow_y": null,
            "padding": null,
            "right": null,
            "top": null,
            "visibility": null,
            "width": null
          }
        },
        "33f9cf2dffbb4ab89246011b14dc9915": {
          "model_module": "@jupyter-widgets/controls",
          "model_name": "DescriptionStyleModel",
          "model_module_version": "1.5.0",
          "state": {
            "_model_module": "@jupyter-widgets/controls",
            "_model_module_version": "1.5.0",
            "_model_name": "DescriptionStyleModel",
            "_view_count": null,
            "_view_module": "@jupyter-widgets/base",
            "_view_module_version": "1.2.0",
            "_view_name": "StyleView",
            "description_width": ""
          }
        },
        "73e87705dea740b2a132d3e3c3175446": {
          "model_module": "@jupyter-widgets/base",
          "model_name": "LayoutModel",
          "model_module_version": "1.2.0",
          "state": {
            "_model_module": "@jupyter-widgets/base",
            "_model_module_version": "1.2.0",
            "_model_name": "LayoutModel",
            "_view_count": null,
            "_view_module": "@jupyter-widgets/base",
            "_view_module_version": "1.2.0",
            "_view_name": "LayoutView",
            "align_content": null,
            "align_items": null,
            "align_self": null,
            "border": null,
            "bottom": null,
            "display": null,
            "flex": null,
            "flex_flow": null,
            "grid_area": null,
            "grid_auto_columns": null,
            "grid_auto_flow": null,
            "grid_auto_rows": null,
            "grid_column": null,
            "grid_gap": null,
            "grid_row": null,
            "grid_template_areas": null,
            "grid_template_columns": null,
            "grid_template_rows": null,
            "height": null,
            "justify_content": null,
            "justify_items": null,
            "left": null,
            "margin": null,
            "max_height": null,
            "max_width": null,
            "min_height": null,
            "min_width": null,
            "object_fit": null,
            "object_position": null,
            "order": null,
            "overflow": null,
            "overflow_x": null,
            "overflow_y": null,
            "padding": null,
            "right": null,
            "top": null,
            "visibility": null,
            "width": null
          }
        }
      }
    }
  },
  "nbformat": 4,
  "nbformat_minor": 0
}