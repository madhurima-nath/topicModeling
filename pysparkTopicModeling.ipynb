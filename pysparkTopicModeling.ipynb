{
  "nbformat": 4,
  "nbformat_minor": 0,
  "metadata": {
    "colab": {
      "provenance": [],
      "gpuType": "T4"
    },
    "kernelspec": {
      "name": "python3",
      "display_name": "Python 3"
    },
    "language_info": {
      "name": "python"
    },
    "accelerator": "GPU"
  },
  "cells": [
    {
      "cell_type": "markdown",
      "source": [
        "# Data Preparation/Processing using Pyspark\n",
        "\n",
        "[Apache Spark](https://spark.apache.org/) website says that it is a `Lightning-fast unified analytics engine`.\n",
        "\n",
        "PySpark is a flavour of Spark used for processing and analysing massive volumes of data. We all know how long data processing and cleaning can take as the size of the datasets increase. Enter - PySpark! It decrease the running time and is extremely efficient.\n",
        "\n",
        "PySpark is the Python API of Spark; which means it can do almost all the things python can. Machine learning(ML) pipelines, exploratory data analysis (at scale), ETLs for data platform, and much more! And all of them in a distributed manner. One of the best parts of pyspark is that if you are already familiar with python, it's really easy to learn.\n",
        "\n",
        "There is another language called *Scala* used for big data. Scala is usually 10 times faster than Python. But, since that requires learning another language, let's stick to PySpark.\n",
        "\n",
        "## SparkNLP module\n",
        "Need to write\n",
        "\n",
        "## PySpark ML module\n",
        "Need to write"
      ],
      "metadata": {
        "id": "jnjLUv5kCmMx"
      }
    },
    {
      "cell_type": "markdown",
      "source": [
        "## Install pyspark library"
      ],
      "metadata": {
        "id": "Zzzz-xksM1el"
      }
    },
    {
      "cell_type": "code",
      "source": [
        "!pip install -q pyspark==3.3.0 spark-nlp==5.0.2"
      ],
      "metadata": {
        "id": "tQlBChSC8vAw",
        "colab": {
          "base_uri": "https://localhost:8080/"
        },
        "outputId": "dc63eb23-d5d1-4c52-db56-fe034431215e"
      },
      "execution_count": 1,
      "outputs": [
        {
          "output_type": "stream",
          "name": "stdout",
          "text": [
            "\u001b[2K     \u001b[90m━━━━━━━━━━━━━━━━━━━━━━━━━━━━━━━━━━━━━━━\u001b[0m \u001b[32m281.3/281.3 MB\u001b[0m \u001b[31m5.1 MB/s\u001b[0m eta \u001b[36m0:00:00\u001b[0m\n",
            "\u001b[?25h  Preparing metadata (setup.py) ... \u001b[?25l\u001b[?25hdone\n",
            "\u001b[2K     \u001b[90m━━━━━━━━━━━━━━━━━━━━━━━━━━━━━━━━━━━━━━\u001b[0m \u001b[32m502.1/502.1 kB\u001b[0m \u001b[31m38.3 MB/s\u001b[0m eta \u001b[36m0:00:00\u001b[0m\n",
            "\u001b[2K     \u001b[90m━━━━━━━━━━━━━━━━━━━━━━━━━━━━━━━━━━━━━━\u001b[0m \u001b[32m199.7/199.7 kB\u001b[0m \u001b[31m21.3 MB/s\u001b[0m eta \u001b[36m0:00:00\u001b[0m\n",
            "\u001b[?25h  Building wheel for pyspark (setup.py) ... \u001b[?25l\u001b[?25hdone\n"
          ]
        }
      ]
    },
    {
      "cell_type": "code",
      "source": [
        "import sparknlp\n",
        "spark = sparknlp.start()\n",
        "\n",
        "print(\"Spark NLP version:\", sparknlp.version())\n",
        "print(\"Apache Spark version:\", spark.version)"
      ],
      "metadata": {
        "colab": {
          "base_uri": "https://localhost:8080/"
        },
        "id": "b0_ijOMI7fUO",
        "outputId": "895129ed-9567-4d24-e7ac-294f1cbac0f4"
      },
      "execution_count": 2,
      "outputs": [
        {
          "output_type": "stream",
          "name": "stdout",
          "text": [
            "Spark NLP version: 5.0.2\n",
            "Apache Spark version: 3.3.0\n"
          ]
        }
      ]
    },
    {
      "cell_type": "code",
      "source": [
        "# ! cd ~/.ivy2/cache/com.johnsnowlabs.nlp/spark-nlp_2.12/jars && ls -lt"
      ],
      "metadata": {
        "id": "fqh3cDe49nhy"
      },
      "execution_count": 3,
      "outputs": []
    },
    {
      "cell_type": "code",
      "source": [
        "# from py4j.java_gateway import java_import\n",
        "# java_import(spark._sc._jvm, \"org.apache.spark.sql.api.python.*\")"
      ],
      "metadata": {
        "id": "6nK_bS4nAAYd"
      },
      "execution_count": 4,
      "outputs": []
    },
    {
      "cell_type": "markdown",
      "source": [
        "## Import packages"
      ],
      "metadata": {
        "id": "C4YKLKTvJjGh"
      }
    },
    {
      "cell_type": "code",
      "source": [
        "# pyspark packages\n",
        "from pyspark.sql.functions import *\n",
        "from pyspark.sql.types import *\n",
        "from pyspark.sql import SparkSession\n",
        "\n",
        "# pyspark ml packages\n",
        "from pyspark.ml import Pipeline\n",
        "from pyspark.ml.feature import StopWordsRemover\n",
        "from pyspark.ml.clustering import LDA\n",
        "from pyspark.ml.feature import CountVectorizer, IDF\n",
        "\n",
        "# sparknlp packages\n",
        "from sparknlp.base import *\n",
        "from sparknlp.annotator import *\n",
        "\n",
        "# other packages\n",
        "import re\n",
        "import numpy as np\n",
        "import pandas as pd\n",
        "from functools import reduce"
      ],
      "metadata": {
        "id": "bHECd5xQJuuN"
      },
      "execution_count": 5,
      "outputs": []
    },
    {
      "cell_type": "markdown",
      "source": [
        "## Load Data\n",
        "Read data from local directory"
      ],
      "metadata": {
        "id": "WKzKahbxaqJa"
      }
    },
    {
      "cell_type": "code",
      "source": [
        "pandasDF = pd.read_csv('dataset.csv')\n",
        "pandasDF.head()"
      ],
      "metadata": {
        "colab": {
          "base_uri": "https://localhost:8080/",
          "height": 323
        },
        "id": "SnHaokVwanTA",
        "outputId": "6f6a4851-ca5c-46ea-956e-6a2113e66fd7"
      },
      "execution_count": 7,
      "outputs": [
        {
          "output_type": "execute_result",
          "data": {
            "text/plain": [
              "   ID                                              TITLE  \\\n",
              "0   1        Reconstructing Subject-Specific Effect Maps   \n",
              "1   2                 Rotation Invariance Neural Network   \n",
              "2   3  Spherical polyharmonics and Poisson kernels fo...   \n",
              "3   4  A finite element approximation for the stochas...   \n",
              "4   5  Comparative study of Discrete Wavelet Transfor...   \n",
              "\n",
              "                                            ABSTRACT  Computer Science  \\\n",
              "0    Predictive models allow subject-specific inf...                 1   \n",
              "1    Rotation invariance and translation invarian...                 1   \n",
              "2    We introduce and develop the notion of spher...                 0   \n",
              "3    The stochastic Landau--Lifshitz--Gilbert (LL...                 0   \n",
              "4    Fourier-transform infra-red (FTIR) spectra o...                 1   \n",
              "\n",
              "   Physics  Mathematics  Statistics  Quantitative Biology  \\\n",
              "0        0            0           0                     0   \n",
              "1        0            0           0                     0   \n",
              "2        0            1           0                     0   \n",
              "3        0            1           0                     0   \n",
              "4        0            0           1                     0   \n",
              "\n",
              "   Quantitative Finance  \n",
              "0                     0  \n",
              "1                     0  \n",
              "2                     0  \n",
              "3                     0  \n",
              "4                     0  "
            ],
            "text/html": [
              "\n",
              "  <div id=\"df-c82e28f0-42fe-40ba-8039-753fd000cdce\" class=\"colab-df-container\">\n",
              "    <div>\n",
              "<style scoped>\n",
              "    .dataframe tbody tr th:only-of-type {\n",
              "        vertical-align: middle;\n",
              "    }\n",
              "\n",
              "    .dataframe tbody tr th {\n",
              "        vertical-align: top;\n",
              "    }\n",
              "\n",
              "    .dataframe thead th {\n",
              "        text-align: right;\n",
              "    }\n",
              "</style>\n",
              "<table border=\"1\" class=\"dataframe\">\n",
              "  <thead>\n",
              "    <tr style=\"text-align: right;\">\n",
              "      <th></th>\n",
              "      <th>ID</th>\n",
              "      <th>TITLE</th>\n",
              "      <th>ABSTRACT</th>\n",
              "      <th>Computer Science</th>\n",
              "      <th>Physics</th>\n",
              "      <th>Mathematics</th>\n",
              "      <th>Statistics</th>\n",
              "      <th>Quantitative Biology</th>\n",
              "      <th>Quantitative Finance</th>\n",
              "    </tr>\n",
              "  </thead>\n",
              "  <tbody>\n",
              "    <tr>\n",
              "      <th>0</th>\n",
              "      <td>1</td>\n",
              "      <td>Reconstructing Subject-Specific Effect Maps</td>\n",
              "      <td>Predictive models allow subject-specific inf...</td>\n",
              "      <td>1</td>\n",
              "      <td>0</td>\n",
              "      <td>0</td>\n",
              "      <td>0</td>\n",
              "      <td>0</td>\n",
              "      <td>0</td>\n",
              "    </tr>\n",
              "    <tr>\n",
              "      <th>1</th>\n",
              "      <td>2</td>\n",
              "      <td>Rotation Invariance Neural Network</td>\n",
              "      <td>Rotation invariance and translation invarian...</td>\n",
              "      <td>1</td>\n",
              "      <td>0</td>\n",
              "      <td>0</td>\n",
              "      <td>0</td>\n",
              "      <td>0</td>\n",
              "      <td>0</td>\n",
              "    </tr>\n",
              "    <tr>\n",
              "      <th>2</th>\n",
              "      <td>3</td>\n",
              "      <td>Spherical polyharmonics and Poisson kernels fo...</td>\n",
              "      <td>We introduce and develop the notion of spher...</td>\n",
              "      <td>0</td>\n",
              "      <td>0</td>\n",
              "      <td>1</td>\n",
              "      <td>0</td>\n",
              "      <td>0</td>\n",
              "      <td>0</td>\n",
              "    </tr>\n",
              "    <tr>\n",
              "      <th>3</th>\n",
              "      <td>4</td>\n",
              "      <td>A finite element approximation for the stochas...</td>\n",
              "      <td>The stochastic Landau--Lifshitz--Gilbert (LL...</td>\n",
              "      <td>0</td>\n",
              "      <td>0</td>\n",
              "      <td>1</td>\n",
              "      <td>0</td>\n",
              "      <td>0</td>\n",
              "      <td>0</td>\n",
              "    </tr>\n",
              "    <tr>\n",
              "      <th>4</th>\n",
              "      <td>5</td>\n",
              "      <td>Comparative study of Discrete Wavelet Transfor...</td>\n",
              "      <td>Fourier-transform infra-red (FTIR) spectra o...</td>\n",
              "      <td>1</td>\n",
              "      <td>0</td>\n",
              "      <td>0</td>\n",
              "      <td>1</td>\n",
              "      <td>0</td>\n",
              "      <td>0</td>\n",
              "    </tr>\n",
              "  </tbody>\n",
              "</table>\n",
              "</div>\n",
              "    <div class=\"colab-df-buttons\">\n",
              "\n",
              "  <div class=\"colab-df-container\">\n",
              "    <button class=\"colab-df-convert\" onclick=\"convertToInteractive('df-c82e28f0-42fe-40ba-8039-753fd000cdce')\"\n",
              "            title=\"Convert this dataframe to an interactive table.\"\n",
              "            style=\"display:none;\">\n",
              "\n",
              "  <svg xmlns=\"http://www.w3.org/2000/svg\" height=\"24px\" viewBox=\"0 -960 960 960\">\n",
              "    <path d=\"M120-120v-720h720v720H120Zm60-500h600v-160H180v160Zm220 220h160v-160H400v160Zm0 220h160v-160H400v160ZM180-400h160v-160H180v160Zm440 0h160v-160H620v160ZM180-180h160v-160H180v160Zm440 0h160v-160H620v160Z\"/>\n",
              "  </svg>\n",
              "    </button>\n",
              "\n",
              "  <style>\n",
              "    .colab-df-container {\n",
              "      display:flex;\n",
              "      gap: 12px;\n",
              "    }\n",
              "\n",
              "    .colab-df-convert {\n",
              "      background-color: #E8F0FE;\n",
              "      border: none;\n",
              "      border-radius: 50%;\n",
              "      cursor: pointer;\n",
              "      display: none;\n",
              "      fill: #1967D2;\n",
              "      height: 32px;\n",
              "      padding: 0 0 0 0;\n",
              "      width: 32px;\n",
              "    }\n",
              "\n",
              "    .colab-df-convert:hover {\n",
              "      background-color: #E2EBFA;\n",
              "      box-shadow: 0px 1px 2px rgba(60, 64, 67, 0.3), 0px 1px 3px 1px rgba(60, 64, 67, 0.15);\n",
              "      fill: #174EA6;\n",
              "    }\n",
              "\n",
              "    .colab-df-buttons div {\n",
              "      margin-bottom: 4px;\n",
              "    }\n",
              "\n",
              "    [theme=dark] .colab-df-convert {\n",
              "      background-color: #3B4455;\n",
              "      fill: #D2E3FC;\n",
              "    }\n",
              "\n",
              "    [theme=dark] .colab-df-convert:hover {\n",
              "      background-color: #434B5C;\n",
              "      box-shadow: 0px 1px 3px 1px rgba(0, 0, 0, 0.15);\n",
              "      filter: drop-shadow(0px 1px 2px rgba(0, 0, 0, 0.3));\n",
              "      fill: #FFFFFF;\n",
              "    }\n",
              "  </style>\n",
              "\n",
              "    <script>\n",
              "      const buttonEl =\n",
              "        document.querySelector('#df-c82e28f0-42fe-40ba-8039-753fd000cdce button.colab-df-convert');\n",
              "      buttonEl.style.display =\n",
              "        google.colab.kernel.accessAllowed ? 'block' : 'none';\n",
              "\n",
              "      async function convertToInteractive(key) {\n",
              "        const element = document.querySelector('#df-c82e28f0-42fe-40ba-8039-753fd000cdce');\n",
              "        const dataTable =\n",
              "          await google.colab.kernel.invokeFunction('convertToInteractive',\n",
              "                                                    [key], {});\n",
              "        if (!dataTable) return;\n",
              "\n",
              "        const docLinkHtml = 'Like what you see? Visit the ' +\n",
              "          '<a target=\"_blank\" href=https://colab.research.google.com/notebooks/data_table.ipynb>data table notebook</a>'\n",
              "          + ' to learn more about interactive tables.';\n",
              "        element.innerHTML = '';\n",
              "        dataTable['output_type'] = 'display_data';\n",
              "        await google.colab.output.renderOutput(dataTable, element);\n",
              "        const docLink = document.createElement('div');\n",
              "        docLink.innerHTML = docLinkHtml;\n",
              "        element.appendChild(docLink);\n",
              "      }\n",
              "    </script>\n",
              "  </div>\n",
              "\n",
              "\n",
              "<div id=\"df-a9989457-888b-42bf-8776-f846a3513caf\">\n",
              "  <button class=\"colab-df-quickchart\" onclick=\"quickchart('df-a9989457-888b-42bf-8776-f846a3513caf')\"\n",
              "            title=\"Suggest charts.\"\n",
              "            style=\"display:none;\">\n",
              "\n",
              "<svg xmlns=\"http://www.w3.org/2000/svg\" height=\"24px\"viewBox=\"0 0 24 24\"\n",
              "     width=\"24px\">\n",
              "    <g>\n",
              "        <path d=\"M19 3H5c-1.1 0-2 .9-2 2v14c0 1.1.9 2 2 2h14c1.1 0 2-.9 2-2V5c0-1.1-.9-2-2-2zM9 17H7v-7h2v7zm4 0h-2V7h2v10zm4 0h-2v-4h2v4z\"/>\n",
              "    </g>\n",
              "</svg>\n",
              "  </button>\n",
              "\n",
              "<style>\n",
              "  .colab-df-quickchart {\n",
              "    background-color: #E8F0FE;\n",
              "    border: none;\n",
              "    border-radius: 50%;\n",
              "    cursor: pointer;\n",
              "    display: none;\n",
              "    fill: #1967D2;\n",
              "    height: 32px;\n",
              "    padding: 0 0 0 0;\n",
              "    width: 32px;\n",
              "  }\n",
              "\n",
              "  .colab-df-quickchart:hover {\n",
              "    background-color: #E2EBFA;\n",
              "    box-shadow: 0px 1px 2px rgba(60, 64, 67, 0.3), 0px 1px 3px 1px rgba(60, 64, 67, 0.15);\n",
              "    fill: #174EA6;\n",
              "  }\n",
              "\n",
              "  [theme=dark] .colab-df-quickchart {\n",
              "    background-color: #3B4455;\n",
              "    fill: #D2E3FC;\n",
              "  }\n",
              "\n",
              "  [theme=dark] .colab-df-quickchart:hover {\n",
              "    background-color: #434B5C;\n",
              "    box-shadow: 0px 1px 3px 1px rgba(0, 0, 0, 0.15);\n",
              "    filter: drop-shadow(0px 1px 2px rgba(0, 0, 0, 0.3));\n",
              "    fill: #FFFFFF;\n",
              "  }\n",
              "</style>\n",
              "\n",
              "  <script>\n",
              "    async function quickchart(key) {\n",
              "      const charts = await google.colab.kernel.invokeFunction(\n",
              "          'suggestCharts', [key], {});\n",
              "    }\n",
              "    (() => {\n",
              "      let quickchartButtonEl =\n",
              "        document.querySelector('#df-a9989457-888b-42bf-8776-f846a3513caf button');\n",
              "      quickchartButtonEl.style.display =\n",
              "        google.colab.kernel.accessAllowed ? 'block' : 'none';\n",
              "    })();\n",
              "  </script>\n",
              "</div>\n",
              "    </div>\n",
              "  </div>\n"
            ]
          },
          "metadata": {},
          "execution_count": 7
        }
      ]
    },
    {
      "cell_type": "code",
      "source": [
        "pandasDF.shape"
      ],
      "metadata": {
        "colab": {
          "base_uri": "https://localhost:8080/"
        },
        "id": "0xz-sp3qbzNM",
        "outputId": "ade85a62-0d5f-4d67-d47e-1dd6f97507b5"
      },
      "execution_count": 8,
      "outputs": [
        {
          "output_type": "execute_result",
          "data": {
            "text/plain": [
              "(20972, 9)"
            ]
          },
          "metadata": {},
          "execution_count": 8
        }
      ]
    },
    {
      "cell_type": "markdown",
      "source": [
        "### Convert pandas dataframe into spark dataframe\n",
        "\n",
        "Note: Usually the dataset is read from a database or a data lake storage on cloud."
      ],
      "metadata": {
        "id": "U-_5MxRVdZpl"
      }
    },
    {
      "cell_type": "code",
      "source": [
        "# building a spark session is required\n",
        "# call this spark session - pandas to spark\n",
        "sparkS = SparkSession.builder.appName(\"pandas to spark\").getOrCreate()"
      ],
      "metadata": {
        "id": "P07_i4N5f5JS"
      },
      "execution_count": 9,
      "outputs": []
    },
    {
      "cell_type": "code",
      "source": [
        "sparkDF = sparkS.createDataFrame(pandasDF)"
      ],
      "metadata": {
        "id": "2loML2NLcsr7",
        "colab": {
          "base_uri": "https://localhost:8080/"
        },
        "outputId": "116f3471-f6c2-448d-fad5-86a028f929e9"
      },
      "execution_count": 10,
      "outputs": [
        {
          "output_type": "stream",
          "name": "stderr",
          "text": [
            "/usr/local/lib/python3.10/dist-packages/pyspark/sql/pandas/conversion.py:474: FutureWarning: iteritems is deprecated and will be removed in a future version. Use .items instead.\n",
            "  for column, series in pdf.iteritems():\n",
            "/usr/local/lib/python3.10/dist-packages/pyspark/sql/pandas/conversion.py:486: FutureWarning: iteritems is deprecated and will be removed in a future version. Use .items instead.\n",
            "  for column, series in pdf.iteritems():\n"
          ]
        }
      ]
    },
    {
      "cell_type": "code",
      "source": [
        "sparkDF.show(5)"
      ],
      "metadata": {
        "colab": {
          "base_uri": "https://localhost:8080/"
        },
        "id": "tXjkKVGEfzP3",
        "outputId": "011820fe-78b5-499b-d4e3-85973aaea003"
      },
      "execution_count": 11,
      "outputs": [
        {
          "output_type": "stream",
          "name": "stdout",
          "text": [
            "+---+--------------------+--------------------+----------------+-------+-----------+----------+--------------------+--------------------+\n",
            "| ID|               TITLE|            ABSTRACT|Computer Science|Physics|Mathematics|Statistics|Quantitative Biology|Quantitative Finance|\n",
            "+---+--------------------+--------------------+----------------+-------+-----------+----------+--------------------+--------------------+\n",
            "|  1|Reconstructing Su...|  Predictive mode...|               1|      0|          0|         0|                   0|                   0|\n",
            "|  2|Rotation Invarian...|  Rotation invari...|               1|      0|          0|         0|                   0|                   0|\n",
            "|  3|Spherical polyhar...|  We introduce an...|               0|      0|          1|         0|                   0|                   0|\n",
            "|  4|A finite element ...|  The stochastic ...|               0|      0|          1|         0|                   0|                   0|\n",
            "|  5|Comparative study...|  Fourier-transfo...|               1|      0|          0|         1|                   0|                   0|\n",
            "+---+--------------------+--------------------+----------------+-------+-----------+----------+--------------------+--------------------+\n",
            "only showing top 5 rows\n",
            "\n"
          ]
        }
      ]
    },
    {
      "cell_type": "markdown",
      "source": [
        "## Processing text columns"
      ],
      "metadata": {
        "id": "e19AFndthGQq"
      }
    },
    {
      "cell_type": "markdown",
      "source": [
        "### User-defined functions required\n",
        "\n",
        "There are (enter number) functions defined in this notebook to process the text columns in the dataframe and obtain the topics out of the data using `sparknlp` and `pyspark.ml` packages.\n",
        "- `clean_sentence` - removes punctuations, special characters, additional spaces and any words with length < 3\n",
        "- `getTopics` - obtains the terms from each of the topics from `sparkLDA` model"
      ],
      "metadata": {
        "id": "KGX1ePUjs0N1"
      }
    },
    {
      "cell_type": "code",
      "source": [
        "@udf(\"string\")\n",
        "def clean_sentence(sentence):\n",
        "\n",
        "  '''function to clean up the sentences\n",
        "  this removes punctuations, special characters,\n",
        "  numbers, additional spaces in between\n",
        "  words and remove any words whose length < 3.'''\n",
        "\n",
        "  #replace non-alpha characters with spaces\n",
        "  sentence = re.sub(r\"[^a-z A-Z]\", \" \", sentence)\n",
        "\n",
        "  #replace any extra spaces\n",
        "  sentence = re.sub(r\"/s+\", \"\", sentence)\n",
        "\n",
        "  #only retain words of length >= 3\n",
        "  sentence = \" \".join([ele for ele in sentence.split() if len(ele) >= 3])\n",
        "\n",
        "  return sentence"
      ],
      "metadata": {
        "id": "RFTz1cW_g5rJ"
      },
      "execution_count": 12,
      "outputs": []
    },
    {
      "cell_type": "code",
      "source": [
        "@udf(ArrayType(StringType()))\n",
        "def getTopics(token_list):\n",
        "\n",
        "  '''funtion to get the terms from each of the\n",
        "  topics from sparkLDA model'''\n",
        "\n",
        "  tlist = [vocab[token_id] for token_id in token_list]\n",
        "  return tlist"
      ],
      "metadata": {
        "id": "181Nj1XavPEh"
      },
      "execution_count": 13,
      "outputs": []
    },
    {
      "cell_type": "markdown",
      "source": [
        "### Combine text columns\n",
        "The two columns containing text are combined into one and create a new column `Text` which will be the inpiut for all the text processing, text clean-up and eventually the topic modeling. Retain only the text columns as the rest are not required for topic modeling"
      ],
      "metadata": {
        "id": "5K5bb0YtvrG_"
      }
    },
    {
      "cell_type": "code",
      "source": [
        "sparkDF = sparkDF.withColumn(\"Content\", concat(col(\"Title\"), lit(\" \"), col(\"Abstract\")))\n",
        "sparkDF = sparkDF.select(\"Title\", \"Abstract\", \"Content\")\n",
        "sparkDF.show(5)"
      ],
      "metadata": {
        "colab": {
          "base_uri": "https://localhost:8080/"
        },
        "id": "KMjB_Q2PwYkc",
        "outputId": "24c6dda2-52fd-4e93-f4c7-12049e992b5d"
      },
      "execution_count": 14,
      "outputs": [
        {
          "output_type": "stream",
          "name": "stdout",
          "text": [
            "+--------------------+--------------------+--------------------+\n",
            "|               Title|            Abstract|             Content|\n",
            "+--------------------+--------------------+--------------------+\n",
            "|Reconstructing Su...|  Predictive mode...|Reconstructing Su...|\n",
            "|Rotation Invarian...|  Rotation invari...|Rotation Invarian...|\n",
            "|Spherical polyhar...|  We introduce an...|Spherical polyhar...|\n",
            "|A finite element ...|  The stochastic ...|A finite element ...|\n",
            "|Comparative study...|  Fourier-transfo...|Comparative study...|\n",
            "+--------------------+--------------------+--------------------+\n",
            "only showing top 5 rows\n",
            "\n"
          ]
        }
      ]
    },
    {
      "cell_type": "code",
      "source": [
        "# apply the above function to clean up text and create a new column\n",
        "# the regexp_replace function applied below cleans up strings\n",
        "# which have more than 2 same letters consecutively in a word\n",
        "\n",
        "sparkDF = sparkDF.withColumn(\"Text\", clean_sentence(regexp_replace(col(\"Content\"), \\\n",
        "                                                            r\"(\\w)\\1{2}\", \"\")))"
      ],
      "metadata": {
        "id": "DAm3j2cBkH32"
      },
      "execution_count": 15,
      "outputs": []
    },
    {
      "cell_type": "code",
      "source": [
        "sparkDF"
      ],
      "metadata": {
        "colab": {
          "base_uri": "https://localhost:8080/"
        },
        "id": "8b0ZgRpq4xEb",
        "outputId": "d1a85383-0e08-4b36-fc1a-190854d93f15"
      },
      "execution_count": 16,
      "outputs": [
        {
          "output_type": "execute_result",
          "data": {
            "text/plain": [
              "DataFrame[Title: string, Abstract: string, Content: string, Text: string]"
            ]
          },
          "metadata": {},
          "execution_count": 16
        }
      ]
    },
    {
      "cell_type": "markdown",
      "source": [
        "### Define spark-nlp pipelines\n",
        "Define the following spark pipelines before topic modeling to\n",
        "- tokenize\n",
        "- lemmatize\n",
        "- remove stopwords\n",
        "- part of speech tagging\n",
        "- retain only nouns and adjectives"
      ],
      "metadata": {
        "id": "sMDbcYyby4tK"
      }
    },
    {
      "cell_type": "code",
      "source": [
        "documentAssembler = DocumentAssembler() \\\n",
        "                      .setInputCol(\"Text\") \\\n",
        "                      .setOutputCol(\"document\")\n",
        "\n",
        "sentence = SentenceDetector() \\\n",
        "            .setInputCols(\"document\") \\\n",
        "            .setOutputCol(\"sentence\")\n",
        "\n",
        "tokenizer = Tokenizer() \\\n",
        "              .setInputCols([\"sentence\"]) \\\n",
        "              .setOutputCol(\"token\")\n",
        "\n",
        "POSTag = PerceptronModel.pretrained() \\\n",
        "          .setInputCols(\"document\", \"token\") \\\n",
        "          .setOutputCol(\"pos\")\n",
        "\n",
        "chunker = Chunker() \\\n",
        "            .setInputCols(\"sentence\", \"pos\") \\\n",
        "            .setOutputCol(\"chunk\") \\\n",
        "            .setRegexParsers([\"<NN>\", \"<NNS>\", \"<NNP>\", \"<VB>\", \"<JJ>\", \"<ADJ>\"])\n",
        "\n",
        "lemmatizer = LemmatizerModel.pretrained() \\\n",
        "              .setInputCols([\"token\"]) \\\n",
        "              .setOutputCol(\"lemmatized\")\n",
        "\n",
        "stopwordsCleaner = StopWordsCleaner() \\\n",
        "                    .setStopWords(StopWordsRemover \\\n",
        "                            .loadDefaultStopWords(\"english\")) \\\n",
        "                    .setInputCols([\"lemmatized\"]) \\\n",
        "                    .setOutputCol(\"unigram\")"
      ],
      "metadata": {
        "colab": {
          "base_uri": "https://localhost:8080/"
        },
        "id": "7uEuKJuFyjhn",
        "outputId": "97bcf87e-4555-4757-f745-aeb5bc9f140f"
      },
      "execution_count": 17,
      "outputs": [
        {
          "output_type": "stream",
          "name": "stdout",
          "text": [
            "pos_anc download started this may take some time.\n",
            "Approximate size to download 3.9 MB\n",
            "[OK!]\n",
            "lemma_antbnc download started this may take some time.\n",
            "Approximate size to download 907.6 KB\n",
            "[OK!]\n"
          ]
        }
      ]
    },
    {
      "cell_type": "code",
      "source": [
        "pipeline1 = Pipeline().setStages(\n",
        "              [documentAssembler,\n",
        "               sentence,\n",
        "               tokenizer,\n",
        "               POSTag,\n",
        "               chunker,\n",
        "               lemmatizer,\n",
        "               stopwordsCleaner\n",
        "               ])"
      ],
      "metadata": {
        "id": "iJYACMCaE7HA"
      },
      "execution_count": 46,
      "outputs": []
    },
    {
      "cell_type": "code",
      "source": [
        "df = pipeline1.fit(sparkDF).transform(sparkDF)"
      ],
      "metadata": {
        "id": "wAchv4iEJqX6"
      },
      "execution_count": 59,
      "outputs": []
    },
    {
      "cell_type": "code",
      "source": [
        "# df.show(5)"
      ],
      "metadata": {
        "colab": {
          "base_uri": "https://localhost:8080/"
        },
        "id": "S3f072ZeJ0Tk",
        "outputId": "4d612ec7-2aed-4e0f-eea3-dde7cbf80b06"
      },
      "execution_count": 55,
      "outputs": [
        {
          "output_type": "stream",
          "name": "stdout",
          "text": [
            "+--------------------+--------------------+--------------------+--------------------+--------------------+--------------------+--------------------+--------------------+--------------------+--------------------+--------------------+\n",
            "|               Title|            Abstract|             Content|                Text|            document|            sentence|               token|                 pos|               chunk|          lemmatized|             unigram|\n",
            "+--------------------+--------------------+--------------------+--------------------+--------------------+--------------------+--------------------+--------------------+--------------------+--------------------+--------------------+\n",
            "|Reconstructing Su...|  Predictive mode...|Reconstructing Su...|Reconstructing Su...|[{document, 0, 17...|[{document, 0, 17...|[{token, 0, 13, R...|[{pos, 0, 13, NNP...|[{chunk, 32, 37, ...|[{token, 0, 13, R...|[{token, 0, 13, R...|\n",
            "|Rotation Invarian...|  Rotation invari...|Rotation Invarian...|Rotation Invarian...|[{document, 0, 49...|[{document, 0, 49...|[{token, 0, 7, Ro...|[{pos, 0, 7, NNP,...|[{chunk, 44, 53, ...|[{token, 0, 7, Ro...|[{token, 0, 7, Ro...|\n",
            "|Spherical polyhar...|  We introduce an...|Spherical polyhar...|Spherical polyhar...|[{document, 0, 66...|[{document, 0, 66...|[{token, 0, 8, Sp...|[{pos, 0, 8, NNP,...|[{chunk, 97, 102,...|[{token, 0, 8, Sp...|[{token, 0, 8, Sp...|\n",
            "|A finite element ...|  The stochastic ...|A finite element ...|finite element ap...|[{document, 0, 77...|[{document, 0, 77...|[{token, 0, 5, fi...|[{pos, 0, 5, JJ, ...|[{chunk, 7, 13, e...|[{token, 0, 5, fi...|[{token, 0, 5, fi...|\n",
            "|Comparative study...|  Fourier-transfo...|Comparative study...|Comparative study...|[{document, 0, 90...|[{document, 0, 90...|[{token, 0, 10, C...|[{pos, 0, 10, JJ,...|[{chunk, 12, 16, ...|[{token, 0, 10, C...|[{token, 0, 10, C...|\n",
            "+--------------------+--------------------+--------------------+--------------------+--------------------+--------------------+--------------------+--------------------+--------------------+--------------------+--------------------+\n",
            "only showing top 5 rows\n",
            "\n"
          ]
        }
      ]
    },
    {
      "cell_type": "code",
      "source": [
        "finalDF = df.select(\"Text\", col(\"unigram.result\").alias(\"unigrams\")) \\\n",
        "                      .withColumn(\"unigrams\", clean_sentence(\n",
        "                          regexp_replace(clean_sentence(\n",
        "                              concat_ws(\", \", array_distinct(\n",
        "                                  split(regexp_replace(\n",
        "                                          concat_ws(\", \", col(\"unigrams\")),\n",
        "                                        \"[^A-Za-z0-9]\", \" \"),\n",
        "                                      \" \"))\n",
        "                              )), r\"\\s*[A-Z]\\w*\\s*\", \" \"\n",
        "                          ))\n",
        "                      )"
      ],
      "metadata": {
        "id": "cR1UjyM4J8am"
      },
      "execution_count": 60,
      "outputs": []
    },
    {
      "cell_type": "code",
      "source": [
        "# finalDF.show(5)"
      ],
      "metadata": {
        "colab": {
          "base_uri": "https://localhost:8080/"
        },
        "id": "RCsmLqUcMaZg",
        "outputId": "4caac3b4-659c-4569-93b0-7e6d00f06d6b"
      },
      "execution_count": 58,
      "outputs": [
        {
          "output_type": "stream",
          "name": "stdout",
          "text": [
            "+--------------------+--------------------+\n",
            "|                Text|            unigrams|\n",
            "+--------------------+--------------------+\n",
            "|Reconstructing Su...|model allow subje...|\n",
            "|Rotation Invarian...|invariance transl...|\n",
            "|Spherical polyhar...|polyharmonics ker...|\n",
            "|finite element ap...|finite element ap...|\n",
            "|Comparative study...|study decompositi...|\n",
            "+--------------------+--------------------+\n",
            "only showing top 5 rows\n",
            "\n"
          ]
        }
      ]
    },
    {
      "cell_type": "code",
      "source": [
        "# split the unigrams into separate terms\n",
        "# filter to keep only the non-null entries\n",
        "\n",
        "finalDF = finalDF.filter(col(\"unigrams\").isNotNull()) \\\n",
        "        .withColumn(\"terms\", split(col(\"unigrams\"), \" \")) \\\n",
        "        .select(\"Text\", \"terms\")"
      ],
      "metadata": {
        "id": "VDjB9bUTNHD2"
      },
      "execution_count": 61,
      "outputs": []
    },
    {
      "cell_type": "code",
      "source": [
        "finalDF.show(5)"
      ],
      "metadata": {
        "id": "r50ykYFRVbrI",
        "outputId": "132347b3-7017-4fb4-e09d-1e72100c7538",
        "colab": {
          "base_uri": "https://localhost:8080/"
        }
      },
      "execution_count": 62,
      "outputs": [
        {
          "output_type": "stream",
          "name": "stdout",
          "text": [
            "+--------------------+--------------------+--------------------+\n",
            "|                Text|            unigrams|               terms|\n",
            "+--------------------+--------------------+--------------------+\n",
            "|Reconstructing Su...|model allow subje...|[model, allow, su...|\n",
            "|Rotation Invarian...|invariance transl...|[invariance, tran...|\n",
            "|Spherical polyhar...|polyharmonics ker...|[polyharmonics, k...|\n",
            "|finite element ap...|finite element ap...|[finite, element,...|\n",
            "|Comparative study...|study decompositi...|[study, decomposi...|\n",
            "+--------------------+--------------------+--------------------+\n",
            "only showing top 5 rows\n",
            "\n"
          ]
        }
      ]
    },
    {
      "cell_type": "markdown",
      "source": [
        "## Topic modeling\n",
        "Use the pyspark ml libraries to obtain the topics and the terms along with their proabilities."
      ],
      "metadata": {
        "id": "h_31PT33WpTe"
      }
    },
    {
      "cell_type": "code",
      "source": [
        "tfzer = CountVectorizer(inputCol = \"terms\", outputCol = \"tfFeatures\")\n",
        "tfModel = tfzer.fit(finalDF)\n",
        "tfResult = tfModel.transform(finalDF)"
      ],
      "metadata": {
        "id": "qquoE8UQXJ4N"
      },
      "execution_count": 63,
      "outputs": []
    },
    {
      "cell_type": "code",
      "source": [
        "idfzer = IDF(inputCol = \"tfFeatures\", outputCol = \"tfidfFeatures\")\n",
        "idfModel = idfzer.fit(tfResult)\n",
        "tfidfResult = idfModel.transform(tfResult)"
      ],
      "metadata": {
        "id": "J9SjphmJX8eJ"
      },
      "execution_count": 64,
      "outputs": []
    },
    {
      "cell_type": "code",
      "source": [
        "lda = LDA(k=5, maxIter = 5, featuresCol = \"tfidfFeatures\")\n",
        "ldaModel = lda.fit(tfidfResult)"
      ],
      "metadata": {
        "id": "HygJMLHDYS6U"
      },
      "execution_count": 65,
      "outputs": []
    },
    {
      "cell_type": "code",
      "source": [
        "ldaModel.describeTopics(10).show(5)"
      ],
      "metadata": {
        "id": "lg6oxBgsaCvy",
        "outputId": "86fbc235-abb9-4436-e681-b1ff2d71e6d7",
        "colab": {
          "base_uri": "https://localhost:8080/"
        }
      },
      "execution_count": 67,
      "outputs": [
        {
          "output_type": "stream",
          "name": "stdout",
          "text": [
            "+-----+--------------------+--------------------+\n",
            "|topic|         termIndices|         termWeights|\n",
            "+-----+--------------------+--------------------+\n",
            "|    0|[53, 22, 1, 18, 1...|[0.00188610619231...|\n",
            "|    1|[16, 133, 116, 4,...|[0.00128907686748...|\n",
            "|    2|[251, 114, 335, 2...|[0.00198972364245...|\n",
            "|    3|[26, 12, 27, 8, 5...|[0.00202644655618...|\n",
            "|    4|[29, 7, 28, 10, 5...|[0.00256160719331...|\n",
            "+-----+--------------------+--------------------+\n",
            "\n"
          ]
        }
      ]
    },
    {
      "cell_type": "code",
      "source": [
        "vocab = tfModel.vocabulary\n",
        "\n",
        "topics = ldaModel.describeTopics(20).withColumn(\"TopicTerms\", \\\n",
        "                                                getTopics(col(\"termIndices\"))) \\\n",
        "                                    .withColumnRenamed(\"termWeights\", \"TermProb\") \\\n",
        "                                    .select(\"Topic\", \"TopicTerms\", \"TermProb\")"
      ],
      "metadata": {
        "id": "rDqM5wqiZx94"
      },
      "execution_count": 68,
      "outputs": []
    },
    {
      "cell_type": "code",
      "source": [
        "topics.show()"
      ],
      "metadata": {
        "id": "L6fD7sqFoIhU",
        "outputId": "93f780d4-4426-400e-865f-e226f646bda0",
        "colab": {
          "base_uri": "https://localhost:8080/"
        }
      },
      "execution_count": 69,
      "outputs": [
        {
          "output_type": "stream",
          "name": "stdout",
          "text": [
            "+-----+--------------------+--------------------+\n",
            "|Topic|          TopicTerms|            TermProb|\n",
            "+-----+--------------------+--------------------+\n",
            "|    0|[prove, algorithm...|[0.00188610619231...|\n",
            "|    1|[system, control,...|[0.00128907686748...|\n",
            "|    2|[temperature, ene...|[0.00198972364245...|\n",
            "|    3|[function, two, g...|[0.00202644655618...|\n",
            "|    4|[learn, propose, ...|[0.00256160719331...|\n",
            "+-----+--------------------+--------------------+\n",
            "\n"
          ]
        }
      ]
    },
    {
      "cell_type": "code",
      "source": [],
      "metadata": {
        "id": "KIfAPlWXoKE4"
      },
      "execution_count": null,
      "outputs": []
    }
  ]
}