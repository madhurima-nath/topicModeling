{
  "nbformat": 4,
  "nbformat_minor": 0,
  "metadata": {
    "colab": {
      "provenance": [],
      "gpuType": "T4"
    },
    "kernelspec": {
      "name": "python3",
      "display_name": "Python 3"
    },
    "language_info": {
      "name": "python"
    },
    "accelerator": "GPU"
  },
  "cells": [
    {
      "cell_type": "markdown",
      "source": [
        "# Topic modeling using PySpark\n",
        "\n",
        "[Apache Spark](https://spark.apache.org/) website says that it is a `Lightning-fast unified analytics engine`.\n",
        "\n",
        "PySpark is a flavour of Spark used for processing and analysing massive volumes of data. We all know how long data processing and cleaning can take as the size of the datasets increase. Enter - PySpark! It decrease the running time and is extremely efficient.\n",
        "\n",
        "PySpark is the Python API of Spark; which means it can do almost all the things python can. Machine learning(ML) pipelines, exploratory data analysis (at scale), ETLs for data platform, and much more! And all of them in a distributed manner. One of the best parts of pyspark is that if you are already familiar with python, it's really easy to learn.\n",
        "\n",
        "There is another language called *Scala* used for big data. Scala is usually 10 times faster than Python. But, since that requires learning another language, let's stick to PySpark.\n",
        "\n",
        "## SparkNLP module\n",
        "SparkNLP is developed and maintained by\n",
        "[John Snow Labs](https://nlp.johnsnowlabs.com).\n",
        "It is an open-source text processing module\n",
        "built on top of Apache Spark and spark ML library.\n",
        "It supports Python, Scala and Java.\n",
        "\n",
        "## PySpark ML module\n",
        "This contains dataframe-based ML Pipeline APIs\n",
        "which lets users quickly assemble and configure\n",
        "ML solutions. It is fast and uses distributed computing.\n",
        "To learn more about PySpark ML package, refer\n",
        "[here](https://spark.apache.org/docs/2.3.0/api/python/pyspark.ml.html).\n"
      ],
      "metadata": {
        "id": "jnjLUv5kCmMx"
      }
    },
    {
      "cell_type": "markdown",
      "source": [
        "## Install pyspark library"
      ],
      "metadata": {
        "id": "Zzzz-xksM1el"
      }
    },
    {
      "cell_type": "code",
      "source": [
        "!pip install -q pyspark==3.3.0 spark-nlp==5.0.2"
      ],
      "metadata": {
        "id": "tQlBChSC8vAw",
        "colab": {
          "base_uri": "https://localhost:8080/"
        },
        "outputId": "96372495-056a-4316-ab17-d4f9e1b7b195"
      },
      "execution_count": 2,
      "outputs": [
        {
          "output_type": "stream",
          "name": "stdout",
          "text": [
            "\u001b[2K     \u001b[90m━━━━━━━━━━━━━━━━━━━━━━━━━━━━━━━━━━━━━━━\u001b[0m \u001b[32m281.3/281.3 MB\u001b[0m \u001b[31m5.3 MB/s\u001b[0m eta \u001b[36m0:00:00\u001b[0m\n",
            "\u001b[?25h  Preparing metadata (setup.py) ... \u001b[?25l\u001b[?25hdone\n",
            "\u001b[2K     \u001b[90m━━━━━━━━━━━━━━━━━━━━━━━━━━━━━━━━━━━━━━\u001b[0m \u001b[32m502.1/502.1 kB\u001b[0m \u001b[31m47.7 MB/s\u001b[0m eta \u001b[36m0:00:00\u001b[0m\n",
            "\u001b[2K     \u001b[90m━━━━━━━━━━━━━━━━━━━━━━━━━━━━━━━━━━━━━━\u001b[0m \u001b[32m199.7/199.7 kB\u001b[0m \u001b[31m15.8 MB/s\u001b[0m eta \u001b[36m0:00:00\u001b[0m\n",
            "\u001b[?25h  Building wheel for pyspark (setup.py) ... \u001b[?25l\u001b[?25hdone\n"
          ]
        }
      ]
    },
    {
      "cell_type": "code",
      "source": [
        "import sparknlp\n",
        "spark = sparknlp.start()\n",
        "\n",
        "print(\"Spark NLP version:\", sparknlp.version())\n",
        "print(\"Apache Spark version:\", spark.version)"
      ],
      "metadata": {
        "colab": {
          "base_uri": "https://localhost:8080/"
        },
        "id": "b0_ijOMI7fUO",
        "outputId": "e29b1c96-60c2-41e4-9c8e-ca542bb0d476"
      },
      "execution_count": 3,
      "outputs": [
        {
          "output_type": "stream",
          "name": "stdout",
          "text": [
            "Spark NLP version: 5.0.2\n",
            "Apache Spark version: 3.3.0\n"
          ]
        }
      ]
    },
    {
      "cell_type": "markdown",
      "source": [
        "## Import packages"
      ],
      "metadata": {
        "id": "C4YKLKTvJjGh"
      }
    },
    {
      "cell_type": "code",
      "source": [
        "# pyspark packages\n",
        "from pyspark.sql.functions import *\n",
        "from pyspark.sql.types import *\n",
        "from pyspark.sql import SparkSession\n",
        "\n",
        "# pyspark ml packages\n",
        "from pyspark.ml import Pipeline\n",
        "from pyspark.ml.feature import StopWordsRemover\n",
        "from pyspark.ml.clustering import LDA\n",
        "from pyspark.ml.feature import CountVectorizer, IDF\n",
        "\n",
        "# sparknlp packages\n",
        "from sparknlp.base import *\n",
        "from sparknlp.annotator import *\n",
        "\n",
        "# other packages\n",
        "import re\n",
        "import numpy as np\n",
        "import pandas as pd\n",
        "from functools import reduce"
      ],
      "metadata": {
        "id": "bHECd5xQJuuN"
      },
      "execution_count": 42,
      "outputs": []
    },
    {
      "cell_type": "markdown",
      "source": [
        "## Load Data\n",
        "Read data from local directory"
      ],
      "metadata": {
        "id": "WKzKahbxaqJa"
      }
    },
    {
      "cell_type": "code",
      "source": [
        "pandasDF = pd.read_csv('dataset.csv')\n",
        "pandasDF.head()"
      ],
      "metadata": {
        "colab": {
          "base_uri": "https://localhost:8080/",
          "height": 323
        },
        "id": "SnHaokVwanTA",
        "outputId": "c6a2d5ce-783d-42fa-e5c6-4f94f9f24608"
      },
      "execution_count": 5,
      "outputs": [
        {
          "output_type": "execute_result",
          "data": {
            "text/plain": [
              "   ID                                              TITLE  \\\n",
              "0   1        Reconstructing Subject-Specific Effect Maps   \n",
              "1   2                 Rotation Invariance Neural Network   \n",
              "2   3  Spherical polyharmonics and Poisson kernels fo...   \n",
              "3   4  A finite element approximation for the stochas...   \n",
              "4   5  Comparative study of Discrete Wavelet Transfor...   \n",
              "\n",
              "                                            ABSTRACT  Computer Science  \\\n",
              "0    Predictive models allow subject-specific inf...                 1   \n",
              "1    Rotation invariance and translation invarian...                 1   \n",
              "2    We introduce and develop the notion of spher...                 0   \n",
              "3    The stochastic Landau--Lifshitz--Gilbert (LL...                 0   \n",
              "4    Fourier-transform infra-red (FTIR) spectra o...                 1   \n",
              "\n",
              "   Physics  Mathematics  Statistics  Quantitative Biology  \\\n",
              "0        0            0           0                     0   \n",
              "1        0            0           0                     0   \n",
              "2        0            1           0                     0   \n",
              "3        0            1           0                     0   \n",
              "4        0            0           1                     0   \n",
              "\n",
              "   Quantitative Finance  \n",
              "0                     0  \n",
              "1                     0  \n",
              "2                     0  \n",
              "3                     0  \n",
              "4                     0  "
            ],
            "text/html": [
              "\n",
              "  <div id=\"df-556a979b-d5f5-434d-96d9-b2b991327a8b\" class=\"colab-df-container\">\n",
              "    <div>\n",
              "<style scoped>\n",
              "    .dataframe tbody tr th:only-of-type {\n",
              "        vertical-align: middle;\n",
              "    }\n",
              "\n",
              "    .dataframe tbody tr th {\n",
              "        vertical-align: top;\n",
              "    }\n",
              "\n",
              "    .dataframe thead th {\n",
              "        text-align: right;\n",
              "    }\n",
              "</style>\n",
              "<table border=\"1\" class=\"dataframe\">\n",
              "  <thead>\n",
              "    <tr style=\"text-align: right;\">\n",
              "      <th></th>\n",
              "      <th>ID</th>\n",
              "      <th>TITLE</th>\n",
              "      <th>ABSTRACT</th>\n",
              "      <th>Computer Science</th>\n",
              "      <th>Physics</th>\n",
              "      <th>Mathematics</th>\n",
              "      <th>Statistics</th>\n",
              "      <th>Quantitative Biology</th>\n",
              "      <th>Quantitative Finance</th>\n",
              "    </tr>\n",
              "  </thead>\n",
              "  <tbody>\n",
              "    <tr>\n",
              "      <th>0</th>\n",
              "      <td>1</td>\n",
              "      <td>Reconstructing Subject-Specific Effect Maps</td>\n",
              "      <td>Predictive models allow subject-specific inf...</td>\n",
              "      <td>1</td>\n",
              "      <td>0</td>\n",
              "      <td>0</td>\n",
              "      <td>0</td>\n",
              "      <td>0</td>\n",
              "      <td>0</td>\n",
              "    </tr>\n",
              "    <tr>\n",
              "      <th>1</th>\n",
              "      <td>2</td>\n",
              "      <td>Rotation Invariance Neural Network</td>\n",
              "      <td>Rotation invariance and translation invarian...</td>\n",
              "      <td>1</td>\n",
              "      <td>0</td>\n",
              "      <td>0</td>\n",
              "      <td>0</td>\n",
              "      <td>0</td>\n",
              "      <td>0</td>\n",
              "    </tr>\n",
              "    <tr>\n",
              "      <th>2</th>\n",
              "      <td>3</td>\n",
              "      <td>Spherical polyharmonics and Poisson kernels fo...</td>\n",
              "      <td>We introduce and develop the notion of spher...</td>\n",
              "      <td>0</td>\n",
              "      <td>0</td>\n",
              "      <td>1</td>\n",
              "      <td>0</td>\n",
              "      <td>0</td>\n",
              "      <td>0</td>\n",
              "    </tr>\n",
              "    <tr>\n",
              "      <th>3</th>\n",
              "      <td>4</td>\n",
              "      <td>A finite element approximation for the stochas...</td>\n",
              "      <td>The stochastic Landau--Lifshitz--Gilbert (LL...</td>\n",
              "      <td>0</td>\n",
              "      <td>0</td>\n",
              "      <td>1</td>\n",
              "      <td>0</td>\n",
              "      <td>0</td>\n",
              "      <td>0</td>\n",
              "    </tr>\n",
              "    <tr>\n",
              "      <th>4</th>\n",
              "      <td>5</td>\n",
              "      <td>Comparative study of Discrete Wavelet Transfor...</td>\n",
              "      <td>Fourier-transform infra-red (FTIR) spectra o...</td>\n",
              "      <td>1</td>\n",
              "      <td>0</td>\n",
              "      <td>0</td>\n",
              "      <td>1</td>\n",
              "      <td>0</td>\n",
              "      <td>0</td>\n",
              "    </tr>\n",
              "  </tbody>\n",
              "</table>\n",
              "</div>\n",
              "    <div class=\"colab-df-buttons\">\n",
              "\n",
              "  <div class=\"colab-df-container\">\n",
              "    <button class=\"colab-df-convert\" onclick=\"convertToInteractive('df-556a979b-d5f5-434d-96d9-b2b991327a8b')\"\n",
              "            title=\"Convert this dataframe to an interactive table.\"\n",
              "            style=\"display:none;\">\n",
              "\n",
              "  <svg xmlns=\"http://www.w3.org/2000/svg\" height=\"24px\" viewBox=\"0 -960 960 960\">\n",
              "    <path d=\"M120-120v-720h720v720H120Zm60-500h600v-160H180v160Zm220 220h160v-160H400v160Zm0 220h160v-160H400v160ZM180-400h160v-160H180v160Zm440 0h160v-160H620v160ZM180-180h160v-160H180v160Zm440 0h160v-160H620v160Z\"/>\n",
              "  </svg>\n",
              "    </button>\n",
              "\n",
              "  <style>\n",
              "    .colab-df-container {\n",
              "      display:flex;\n",
              "      gap: 12px;\n",
              "    }\n",
              "\n",
              "    .colab-df-convert {\n",
              "      background-color: #E8F0FE;\n",
              "      border: none;\n",
              "      border-radius: 50%;\n",
              "      cursor: pointer;\n",
              "      display: none;\n",
              "      fill: #1967D2;\n",
              "      height: 32px;\n",
              "      padding: 0 0 0 0;\n",
              "      width: 32px;\n",
              "    }\n",
              "\n",
              "    .colab-df-convert:hover {\n",
              "      background-color: #E2EBFA;\n",
              "      box-shadow: 0px 1px 2px rgba(60, 64, 67, 0.3), 0px 1px 3px 1px rgba(60, 64, 67, 0.15);\n",
              "      fill: #174EA6;\n",
              "    }\n",
              "\n",
              "    .colab-df-buttons div {\n",
              "      margin-bottom: 4px;\n",
              "    }\n",
              "\n",
              "    [theme=dark] .colab-df-convert {\n",
              "      background-color: #3B4455;\n",
              "      fill: #D2E3FC;\n",
              "    }\n",
              "\n",
              "    [theme=dark] .colab-df-convert:hover {\n",
              "      background-color: #434B5C;\n",
              "      box-shadow: 0px 1px 3px 1px rgba(0, 0, 0, 0.15);\n",
              "      filter: drop-shadow(0px 1px 2px rgba(0, 0, 0, 0.3));\n",
              "      fill: #FFFFFF;\n",
              "    }\n",
              "  </style>\n",
              "\n",
              "    <script>\n",
              "      const buttonEl =\n",
              "        document.querySelector('#df-556a979b-d5f5-434d-96d9-b2b991327a8b button.colab-df-convert');\n",
              "      buttonEl.style.display =\n",
              "        google.colab.kernel.accessAllowed ? 'block' : 'none';\n",
              "\n",
              "      async function convertToInteractive(key) {\n",
              "        const element = document.querySelector('#df-556a979b-d5f5-434d-96d9-b2b991327a8b');\n",
              "        const dataTable =\n",
              "          await google.colab.kernel.invokeFunction('convertToInteractive',\n",
              "                                                    [key], {});\n",
              "        if (!dataTable) return;\n",
              "\n",
              "        const docLinkHtml = 'Like what you see? Visit the ' +\n",
              "          '<a target=\"_blank\" href=https://colab.research.google.com/notebooks/data_table.ipynb>data table notebook</a>'\n",
              "          + ' to learn more about interactive tables.';\n",
              "        element.innerHTML = '';\n",
              "        dataTable['output_type'] = 'display_data';\n",
              "        await google.colab.output.renderOutput(dataTable, element);\n",
              "        const docLink = document.createElement('div');\n",
              "        docLink.innerHTML = docLinkHtml;\n",
              "        element.appendChild(docLink);\n",
              "      }\n",
              "    </script>\n",
              "  </div>\n",
              "\n",
              "\n",
              "<div id=\"df-471a0d6b-4acd-4813-a026-1cba6ae7c7fd\">\n",
              "  <button class=\"colab-df-quickchart\" onclick=\"quickchart('df-471a0d6b-4acd-4813-a026-1cba6ae7c7fd')\"\n",
              "            title=\"Suggest charts.\"\n",
              "            style=\"display:none;\">\n",
              "\n",
              "<svg xmlns=\"http://www.w3.org/2000/svg\" height=\"24px\"viewBox=\"0 0 24 24\"\n",
              "     width=\"24px\">\n",
              "    <g>\n",
              "        <path d=\"M19 3H5c-1.1 0-2 .9-2 2v14c0 1.1.9 2 2 2h14c1.1 0 2-.9 2-2V5c0-1.1-.9-2-2-2zM9 17H7v-7h2v7zm4 0h-2V7h2v10zm4 0h-2v-4h2v4z\"/>\n",
              "    </g>\n",
              "</svg>\n",
              "  </button>\n",
              "\n",
              "<style>\n",
              "  .colab-df-quickchart {\n",
              "    background-color: #E8F0FE;\n",
              "    border: none;\n",
              "    border-radius: 50%;\n",
              "    cursor: pointer;\n",
              "    display: none;\n",
              "    fill: #1967D2;\n",
              "    height: 32px;\n",
              "    padding: 0 0 0 0;\n",
              "    width: 32px;\n",
              "  }\n",
              "\n",
              "  .colab-df-quickchart:hover {\n",
              "    background-color: #E2EBFA;\n",
              "    box-shadow: 0px 1px 2px rgba(60, 64, 67, 0.3), 0px 1px 3px 1px rgba(60, 64, 67, 0.15);\n",
              "    fill: #174EA6;\n",
              "  }\n",
              "\n",
              "  [theme=dark] .colab-df-quickchart {\n",
              "    background-color: #3B4455;\n",
              "    fill: #D2E3FC;\n",
              "  }\n",
              "\n",
              "  [theme=dark] .colab-df-quickchart:hover {\n",
              "    background-color: #434B5C;\n",
              "    box-shadow: 0px 1px 3px 1px rgba(0, 0, 0, 0.15);\n",
              "    filter: drop-shadow(0px 1px 2px rgba(0, 0, 0, 0.3));\n",
              "    fill: #FFFFFF;\n",
              "  }\n",
              "</style>\n",
              "\n",
              "  <script>\n",
              "    async function quickchart(key) {\n",
              "      const charts = await google.colab.kernel.invokeFunction(\n",
              "          'suggestCharts', [key], {});\n",
              "    }\n",
              "    (() => {\n",
              "      let quickchartButtonEl =\n",
              "        document.querySelector('#df-471a0d6b-4acd-4813-a026-1cba6ae7c7fd button');\n",
              "      quickchartButtonEl.style.display =\n",
              "        google.colab.kernel.accessAllowed ? 'block' : 'none';\n",
              "    })();\n",
              "  </script>\n",
              "</div>\n",
              "    </div>\n",
              "  </div>\n"
            ]
          },
          "metadata": {},
          "execution_count": 5
        }
      ]
    },
    {
      "cell_type": "code",
      "source": [
        "pandasDF.shape"
      ],
      "metadata": {
        "colab": {
          "base_uri": "https://localhost:8080/"
        },
        "id": "0xz-sp3qbzNM",
        "outputId": "906f936a-6635-4001-eb6e-619757f0a8bf"
      },
      "execution_count": 6,
      "outputs": [
        {
          "output_type": "execute_result",
          "data": {
            "text/plain": [
              "(20972, 9)"
            ]
          },
          "metadata": {},
          "execution_count": 6
        }
      ]
    },
    {
      "cell_type": "markdown",
      "source": [
        "### Convert pandas dataframe into spark dataframe\n",
        "\n",
        "Note: Usually the dataset is read from a database or a data lake storage on cloud."
      ],
      "metadata": {
        "id": "U-_5MxRVdZpl"
      }
    },
    {
      "cell_type": "code",
      "source": [
        "# building a spark session is required\n",
        "# call this spark session - pandas to spark\n",
        "sparkS = SparkSession.builder.appName(\"pandas to spark\").getOrCreate()"
      ],
      "metadata": {
        "id": "P07_i4N5f5JS"
      },
      "execution_count": 7,
      "outputs": []
    },
    {
      "cell_type": "code",
      "source": [
        "sparkDF = sparkS.createDataFrame(pandasDF)"
      ],
      "metadata": {
        "id": "2loML2NLcsr7",
        "colab": {
          "base_uri": "https://localhost:8080/"
        },
        "outputId": "e1fcfbe8-60bf-4d11-d9a6-780d85283126"
      },
      "execution_count": 8,
      "outputs": [
        {
          "output_type": "stream",
          "name": "stderr",
          "text": [
            "/usr/local/lib/python3.10/dist-packages/pyspark/sql/pandas/conversion.py:474: FutureWarning: iteritems is deprecated and will be removed in a future version. Use .items instead.\n",
            "  for column, series in pdf.iteritems():\n",
            "/usr/local/lib/python3.10/dist-packages/pyspark/sql/pandas/conversion.py:486: FutureWarning: iteritems is deprecated and will be removed in a future version. Use .items instead.\n",
            "  for column, series in pdf.iteritems():\n"
          ]
        }
      ]
    },
    {
      "cell_type": "code",
      "source": [
        "sparkDF.show(5)"
      ],
      "metadata": {
        "colab": {
          "base_uri": "https://localhost:8080/"
        },
        "id": "tXjkKVGEfzP3",
        "outputId": "b0bb8888-6df7-4cb9-9478-19a7b9926c68"
      },
      "execution_count": 9,
      "outputs": [
        {
          "output_type": "stream",
          "name": "stdout",
          "text": [
            "+---+--------------------+--------------------+----------------+-------+-----------+----------+--------------------+--------------------+\n",
            "| ID|               TITLE|            ABSTRACT|Computer Science|Physics|Mathematics|Statistics|Quantitative Biology|Quantitative Finance|\n",
            "+---+--------------------+--------------------+----------------+-------+-----------+----------+--------------------+--------------------+\n",
            "|  1|Reconstructing Su...|  Predictive mode...|               1|      0|          0|         0|                   0|                   0|\n",
            "|  2|Rotation Invarian...|  Rotation invari...|               1|      0|          0|         0|                   0|                   0|\n",
            "|  3|Spherical polyhar...|  We introduce an...|               0|      0|          1|         0|                   0|                   0|\n",
            "|  4|A finite element ...|  The stochastic ...|               0|      0|          1|         0|                   0|                   0|\n",
            "|  5|Comparative study...|  Fourier-transfo...|               1|      0|          0|         1|                   0|                   0|\n",
            "+---+--------------------+--------------------+----------------+-------+-----------+----------+--------------------+--------------------+\n",
            "only showing top 5 rows\n",
            "\n"
          ]
        }
      ]
    },
    {
      "cell_type": "markdown",
      "source": [
        "## Processing text columns"
      ],
      "metadata": {
        "id": "e19AFndthGQq"
      }
    },
    {
      "cell_type": "markdown",
      "source": [
        "### User-defined functions required\n",
        "\n",
        "There are (enter number) functions defined in this notebook to process the text columns in the dataframe and obtain the topics out of the data using `sparknlp` and `pyspark.ml` packages.\n",
        "- `clean_sentence` - removes punctuations, special characters, additional spaces and any words with length < 3\n",
        "- `getTopics` - obtains the terms from each of the topics from `sparkLDA` model"
      ],
      "metadata": {
        "id": "KGX1ePUjs0N1"
      }
    },
    {
      "cell_type": "code",
      "source": [
        "@udf(\"string\")\n",
        "def clean_sentence(sentence):\n",
        "\n",
        "  '''function to clean up the sentences\n",
        "  this removes punctuations, special characters,\n",
        "  numbers, additional spaces in between\n",
        "  words and remove any words whose length < 3.'''\n",
        "\n",
        "  #replace non-alpha characters with spaces\n",
        "  sentence = re.sub(r\"[^a-z A-Z]\", \" \", sentence)\n",
        "\n",
        "  #replace any extra spaces\n",
        "  sentence = re.sub(r\"/s+\", \"\", sentence)\n",
        "\n",
        "  #only retain words of length >= 3\n",
        "  sentence = \" \".join([ele for ele in sentence.split() if len(ele) >= 3])\n",
        "\n",
        "  return sentence"
      ],
      "metadata": {
        "id": "RFTz1cW_g5rJ"
      },
      "execution_count": 10,
      "outputs": []
    },
    {
      "cell_type": "code",
      "source": [
        "@udf(ArrayType(StringType()))\n",
        "def getTopics(token_list):\n",
        "\n",
        "  '''funtion to get the terms from each of the\n",
        "  topics from sparkLDA model'''\n",
        "\n",
        "  tlist = [vocab[token_id] for token_id in token_list]\n",
        "  return tlist"
      ],
      "metadata": {
        "id": "181Nj1XavPEh"
      },
      "execution_count": 11,
      "outputs": []
    },
    {
      "cell_type": "markdown",
      "source": [
        "### Combine text columns\n",
        "The two columns containing text are combined into one and create a new column `Text` which will be the inpiut for all the text processing, text clean-up and eventually the topic modeling. Retain only the text columns as the rest are not required for topic modeling"
      ],
      "metadata": {
        "id": "5K5bb0YtvrG_"
      }
    },
    {
      "cell_type": "code",
      "source": [
        "sparkDF = sparkDF.withColumn(\"Content\", concat(col(\"Title\"), lit(\" \"), col(\"Abstract\")))\n",
        "sparkDF = sparkDF.select(\"Title\", \"Abstract\", \"Content\")\n",
        "sparkDF.show(5)"
      ],
      "metadata": {
        "colab": {
          "base_uri": "https://localhost:8080/"
        },
        "id": "KMjB_Q2PwYkc",
        "outputId": "112b70d3-9d4d-445b-eede-c4b3035f1ef1"
      },
      "execution_count": 12,
      "outputs": [
        {
          "output_type": "stream",
          "name": "stdout",
          "text": [
            "+--------------------+--------------------+--------------------+\n",
            "|               Title|            Abstract|             Content|\n",
            "+--------------------+--------------------+--------------------+\n",
            "|Reconstructing Su...|  Predictive mode...|Reconstructing Su...|\n",
            "|Rotation Invarian...|  Rotation invari...|Rotation Invarian...|\n",
            "|Spherical polyhar...|  We introduce an...|Spherical polyhar...|\n",
            "|A finite element ...|  The stochastic ...|A finite element ...|\n",
            "|Comparative study...|  Fourier-transfo...|Comparative study...|\n",
            "+--------------------+--------------------+--------------------+\n",
            "only showing top 5 rows\n",
            "\n"
          ]
        }
      ]
    },
    {
      "cell_type": "code",
      "source": [
        "# apply the above function to clean up text and create a new column\n",
        "# the regexp_replace function applied below cleans up strings\n",
        "# which have more than 2 same letters consecutively in a word\n",
        "\n",
        "sparkDF = sparkDF.withColumn(\"Text\", clean_sentence(regexp_replace(col(\"Content\"), \\\n",
        "                                                            r\"(\\w)\\1{2}\", \"\")))"
      ],
      "metadata": {
        "id": "DAm3j2cBkH32"
      },
      "execution_count": 13,
      "outputs": []
    },
    {
      "cell_type": "code",
      "source": [
        "sparkDF"
      ],
      "metadata": {
        "colab": {
          "base_uri": "https://localhost:8080/"
        },
        "id": "8b0ZgRpq4xEb",
        "outputId": "b99ecabe-3820-4702-cb11-a9e382b71126"
      },
      "execution_count": 14,
      "outputs": [
        {
          "output_type": "execute_result",
          "data": {
            "text/plain": [
              "DataFrame[Title: string, Abstract: string, Content: string, Text: string]"
            ]
          },
          "metadata": {},
          "execution_count": 14
        }
      ]
    },
    {
      "cell_type": "markdown",
      "source": [
        "### Define spark-nlp pipelines\n",
        "Define the following spark pipelines before topic modeling to\n",
        "- tokenize\n",
        "- lemmatize\n",
        "- remove stopwords\n",
        "- part of speech tagging\n",
        "- retain only nouns and adjectives"
      ],
      "metadata": {
        "id": "sMDbcYyby4tK"
      }
    },
    {
      "cell_type": "code",
      "source": [
        "documentAssembler = DocumentAssembler() \\\n",
        "                      .setInputCol(\"Text\") \\\n",
        "                      .setOutputCol(\"document\")\n",
        "\n",
        "sentence = SentenceDetector() \\\n",
        "            .setInputCols(\"document\") \\\n",
        "            .setOutputCol(\"sentence\")\n",
        "\n",
        "tokenizer = Tokenizer() \\\n",
        "              .setInputCols([\"sentence\"]) \\\n",
        "              .setOutputCol(\"token\")\n",
        "\n",
        "POSTag = PerceptronModel.pretrained() \\\n",
        "          .setInputCols(\"document\", \"token\") \\\n",
        "          .setOutputCol(\"pos\")\n",
        "\n",
        "chunker = Chunker() \\\n",
        "            .setInputCols(\"sentence\", \"pos\") \\\n",
        "            .setOutputCol(\"chunk\") \\\n",
        "            .setRegexParsers([\"<NN>\", \"<NNS>\", \"<NNP>\", \"<VB>\", \"<JJ>\", \"<ADJ>\"])\n",
        "\n",
        "lemmatizer = LemmatizerModel.pretrained() \\\n",
        "              .setInputCols([\"token\"]) \\\n",
        "              .setOutputCol(\"lemmatized\")\n",
        "\n",
        "stopwordsCleaner = StopWordsCleaner() \\\n",
        "                    .setStopWords(StopWordsRemover \\\n",
        "                            .loadDefaultStopWords(\"english\")) \\\n",
        "                    .setInputCols([\"lemmatized\"]) \\\n",
        "                    .setOutputCol(\"unigram\")"
      ],
      "metadata": {
        "colab": {
          "base_uri": "https://localhost:8080/"
        },
        "id": "7uEuKJuFyjhn",
        "outputId": "be153e3c-fbcf-4fbd-caf4-8f19aca07380"
      },
      "execution_count": 15,
      "outputs": [
        {
          "output_type": "stream",
          "name": "stdout",
          "text": [
            "pos_anc download started this may take some time.\n",
            "Approximate size to download 3.9 MB\n",
            "[OK!]\n",
            "lemma_antbnc download started this may take some time.\n",
            "Approximate size to download 907.6 KB\n",
            "[OK!]\n"
          ]
        }
      ]
    },
    {
      "cell_type": "code",
      "source": [
        "pipeline1 = Pipeline().setStages(\n",
        "              [documentAssembler,\n",
        "               sentence,\n",
        "               tokenizer,\n",
        "               POSTag,\n",
        "               chunker,\n",
        "               lemmatizer,\n",
        "               stopwordsCleaner\n",
        "               ])"
      ],
      "metadata": {
        "id": "iJYACMCaE7HA"
      },
      "execution_count": 16,
      "outputs": []
    },
    {
      "cell_type": "code",
      "source": [
        "df = pipeline1.fit(sparkDF).transform(sparkDF)"
      ],
      "metadata": {
        "id": "wAchv4iEJqX6"
      },
      "execution_count": 17,
      "outputs": []
    },
    {
      "cell_type": "code",
      "source": [
        "# df.show(5)"
      ],
      "metadata": {
        "id": "S3f072ZeJ0Tk"
      },
      "execution_count": 18,
      "outputs": []
    },
    {
      "cell_type": "code",
      "source": [
        "finalDF = df.select(\"Text\", col(\"unigram.result\").alias(\"unigrams\")) \\\n",
        "                      .withColumn(\"unigrams\", clean_sentence(\n",
        "                          regexp_replace(clean_sentence(\n",
        "                              concat_ws(\", \", array_distinct(\n",
        "                                  split(regexp_replace(\n",
        "                                          concat_ws(\", \", col(\"unigrams\")),\n",
        "                                        \"[^A-Za-z0-9]\", \" \"),\n",
        "                                      \" \"))\n",
        "                              )), r\"\\s*[A-Z]\\w*\\s*\", \" \"\n",
        "                          ))\n",
        "                      )"
      ],
      "metadata": {
        "id": "cR1UjyM4J8am"
      },
      "execution_count": 19,
      "outputs": []
    },
    {
      "cell_type": "code",
      "source": [
        "# finalDF.show(5)"
      ],
      "metadata": {
        "id": "RCsmLqUcMaZg"
      },
      "execution_count": 20,
      "outputs": []
    },
    {
      "cell_type": "code",
      "source": [
        "# split the unigrams into separate terms\n",
        "# filter to keep only the non-null entries\n",
        "\n",
        "finalDF = finalDF.filter(col(\"unigrams\").isNotNull()) \\\n",
        "        .withColumn(\"terms\", split(col(\"unigrams\"), \" \")) \\\n",
        "        .select(\"Text\", \"terms\")"
      ],
      "metadata": {
        "id": "VDjB9bUTNHD2"
      },
      "execution_count": 21,
      "outputs": []
    },
    {
      "cell_type": "code",
      "source": [
        "finalDF.show(5)"
      ],
      "metadata": {
        "colab": {
          "base_uri": "https://localhost:8080/"
        },
        "id": "r50ykYFRVbrI",
        "outputId": "711fff53-2eae-4229-bdf6-1c56aba975b6"
      },
      "execution_count": 22,
      "outputs": [
        {
          "output_type": "stream",
          "name": "stdout",
          "text": [
            "+--------------------+--------------------+\n",
            "|                Text|               terms|\n",
            "+--------------------+--------------------+\n",
            "|Reconstructing Su...|[model, allow, su...|\n",
            "|Rotation Invarian...|[invariance, tran...|\n",
            "|Spherical polyhar...|[polyharmonics, k...|\n",
            "|finite element ap...|[finite, element,...|\n",
            "|Comparative study...|[study, decomposi...|\n",
            "+--------------------+--------------------+\n",
            "only showing top 5 rows\n",
            "\n"
          ]
        }
      ]
    },
    {
      "cell_type": "markdown",
      "source": [
        "## Topic modeling\n",
        "Use the pyspark ml libraries to obtain the topics and the terms along with their proabilities."
      ],
      "metadata": {
        "id": "h_31PT33WpTe"
      }
    },
    {
      "cell_type": "code",
      "source": [
        "tfzer = CountVectorizer(inputCol = \"terms\", outputCol = \"tfFeatures\")\n",
        "tfModel = tfzer.fit(finalDF)\n",
        "tfResult = tfModel.transform(finalDF)"
      ],
      "metadata": {
        "id": "qquoE8UQXJ4N"
      },
      "execution_count": 23,
      "outputs": []
    },
    {
      "cell_type": "code",
      "source": [
        "idfzer = IDF(inputCol = \"tfFeatures\", outputCol = \"tfidfFeatures\")\n",
        "idfModel = idfzer.fit(tfResult)\n",
        "tfidfResult = idfModel.transform(tfResult)"
      ],
      "metadata": {
        "id": "J9SjphmJX8eJ"
      },
      "execution_count": 24,
      "outputs": []
    },
    {
      "cell_type": "code",
      "source": [
        "lda = LDA(k=5, maxIter = 5, featuresCol = \"tfidfFeatures\")\n",
        "ldaModel = lda.fit(tfidfResult)"
      ],
      "metadata": {
        "id": "HygJMLHDYS6U"
      },
      "execution_count": 25,
      "outputs": []
    },
    {
      "cell_type": "code",
      "source": [
        "ldaModel.describeTopics(10).show(5)"
      ],
      "metadata": {
        "colab": {
          "base_uri": "https://localhost:8080/"
        },
        "id": "lg6oxBgsaCvy",
        "outputId": "e6b32eea-ebb7-4c91-978e-0b57e9644e0c"
      },
      "execution_count": 26,
      "outputs": [
        {
          "output_type": "stream",
          "name": "stdout",
          "text": [
            "+-----+--------------------+--------------------+\n",
            "|topic|         termIndices|         termWeights|\n",
            "+-----+--------------------+--------------------+\n",
            "|    0|[14, 16, 8, 3, 7,...|[0.00179173960431...|\n",
            "|    1|[33, 95, 29, 28, ...|[0.00126719188163...|\n",
            "|    2|[2, 9, 6, 10, 12,...|[0.00178600791167...|\n",
            "|    3|[406, 251, 20, 27...|[0.00178199609553...|\n",
            "|    4|[53, 336, 27, 139...|[0.00322010683478...|\n",
            "+-----+--------------------+--------------------+\n",
            "\n"
          ]
        }
      ]
    },
    {
      "cell_type": "code",
      "source": [
        "vocab = tfModel.vocabulary\n",
        "\n",
        "topics = ldaModel.describeTopics(10).withColumn(\"TopicTerms\", \\\n",
        "                                                getTopics(col(\"termIndices\"))) \\\n",
        "                                    .withColumnRenamed(\"termWeights\", \"TermProb\") \\\n",
        "                                    .select(\"Topic\", \"TopicTerms\", \"TermProb\")"
      ],
      "metadata": {
        "id": "rDqM5wqiZx94"
      },
      "execution_count": 34,
      "outputs": []
    },
    {
      "cell_type": "code",
      "source": [
        "topics.show()"
      ],
      "metadata": {
        "colab": {
          "base_uri": "https://localhost:8080/"
        },
        "id": "L6fD7sqFoIhU",
        "outputId": "c4cac5a7-e980-4a5f-e88b-4d448939bffe"
      },
      "execution_count": 35,
      "outputs": [
        {
          "output_type": "stream",
          "name": "stdout",
          "text": [
            "+-----+--------------------+--------------------+\n",
            "|Topic|          TopicTerms|            TermProb|\n",
            "+-----+--------------------+--------------------+\n",
            "|    0|[present, system,...|[0.00179173960431...|\n",
            "|    1|[different, task,...|[0.00126719188163...|\n",
            "|    2|[result, also, me...|[0.00178600791167...|\n",
            "|    3|[material, temper...|[0.00178199609553...|\n",
            "|    4|[prove, mathbb, g...|[0.00322010683478...|\n",
            "+-----+--------------------+--------------------+\n",
            "\n"
          ]
        }
      ]
    },
    {
      "cell_type": "code",
      "source": [
        "topicsDF = topics.withColumn(\"ID\", monotonically_increasing_id()) \\\n",
        "                  .withColumn(\"new\", arrays_zip(\"TopicTerms\", \"TermProb\")) \\\n",
        "                  .withColumn(\"new\", explode(\"new\")) \\\n",
        "                  .select(\"ID\", \"Topic\", col(\"new.TopicTerms\").alias(\"TopicTerms\"), \\\n",
        "                          col(\"new.TermProb\").alias(\"TermProb\"))"
      ],
      "metadata": {
        "id": "KIfAPlWXoKE4"
      },
      "execution_count": 36,
      "outputs": []
    },
    {
      "cell_type": "code",
      "source": [
        "topicsDF.show(10)"
      ],
      "metadata": {
        "colab": {
          "base_uri": "https://localhost:8080/"
        },
        "id": "_QJlUJdBsWFW",
        "outputId": "0139c019-df74-4d9d-a690-791e63ea734a"
      },
      "execution_count": 37,
      "outputs": [
        {
          "output_type": "stream",
          "name": "stdout",
          "text": [
            "+---+-----+----------+--------------------+\n",
            "| ID|Topic|TopicTerms|            TermProb|\n",
            "+---+-----+----------+--------------------+\n",
            "|  0|    0|   present|0.001791739604312...|\n",
            "|  0|    0|    system|0.001780030295319...|\n",
            "|  0|    0|     study|0.001749689263265331|\n",
            "|  0|    0|     model|0.001726980300464329|\n",
            "|  0|    0|   propose|0.001716300061816926|\n",
            "|  0|    0|      time|0.001709148329319...|\n",
            "|  0|    0|     paper|0.001659330724950...|\n",
            "|  0|    0|   network|0.001631461696341...|\n",
            "|  0|    0|    method|0.001625603662721...|\n",
            "|  0|    0|       use|0.001617828737408...|\n",
            "+---+-----+----------+--------------------+\n",
            "only showing top 10 rows\n",
            "\n"
          ]
        }
      ]
    },
    {
      "cell_type": "code",
      "source": [],
      "metadata": {
        "id": "a1Uk3rIS9nqT"
      },
      "execution_count": null,
      "outputs": []
    }
  ]
}